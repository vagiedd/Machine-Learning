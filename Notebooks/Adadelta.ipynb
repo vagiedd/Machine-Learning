{
 "cells": [
  {
   "cell_type": "code",
   "execution_count": 1,
   "metadata": {
    "scrolled": true
   },
   "outputs": [
    {
     "data": {
      "image/png": "[encoded data removed]",
      "text/plain": [
       "<Figure size 432x288 with 1 Axes>"
      ]
     },
     "metadata": {
      "needs_background": "light"
     },
     "output_type": "display_data"
    }
   ],
   "source": [
    "import numpy as np\n",
    "\n",
    "class adadelta:\n",
    "    def __init__(self,fun,grad=None,\n",
    "                 grad_eps=1e-8,\n",
    "                 args=(),\n",
    "                 kwargs={}):\n",
    "        self.fun = fun\n",
    "        self.grad = grad\n",
    "        self.args = args\n",
    "        self.kwargs = kwargs\n",
    "        self.res = {\"f\":[],\n",
    "                    \"x\":[],\n",
    "                    \"iter\":0,\n",
    "                    \"success\":True}\n",
    "        if grad is None: \n",
    "            self.grad_eps = grad_eps\n",
    "            self.grad = self.set_grad\n",
    "    def set_grad(self,x,*args,**kwargs):\n",
    "        _f = lambda x: self.fun(x,*self.args,**self.kwargs)\n",
    "        eps = self.grad_eps\n",
    "        N = len(x)\n",
    "        grad = []\n",
    "        dx = np.zeros(N)\n",
    "        for i in range(N):\n",
    "            dx[i] = eps\n",
    "            grad.append((_f(x+dx)-_f(x-dx))/(2*eps))\n",
    "            dx[i] = 0\n",
    "        return np.array(grad)\n",
    "    def E(self,Eprev,gx,rho):\n",
    "        return rho*Eprev + (1 - rho)*gx**2\n",
    "    def RMS(self,E,gx,eps):\n",
    "        return np.sqrt(E + eps)\n",
    "    def minimize(self,x0,\n",
    "                 rho=0.95,\n",
    "                 eps=1e-6,\n",
    "                 rtol=1e-05, \n",
    "                 atol=1e-08,\n",
    "                 maxitr=10000):\n",
    "        _f = lambda x: self.fun(x,*self.args,**self.kwargs)\n",
    "        _df = lambda x: self.grad(x,*self.args,**self.kwargs)\n",
    "        Eg = Ex = 0\n",
    "        x = np.array(x0)\n",
    "        dx = 0\n",
    "        cnt = 0\n",
    "        res = []\n",
    "        while True:\n",
    "            df = _df(x)\n",
    "            Eg = self.E(Eg,df,rho)\n",
    "            dx = -(self.RMS(Ex,dx,eps)/self.RMS(Eg,df,eps))*df\n",
    "            Ex = self.E(Ex,dx,rho)\n",
    "            if np.isclose(_f(x),_f(x+dx),rtol,atol):\n",
    "                break\n",
    "            res.append([*x,_f(x)])\n",
    "            cnt += 1\n",
    "            if cnt > maxitr:\n",
    "                print(\"minimization failed to converge\")\n",
    "                self.res[\"success\"] = False\n",
    "                break\n",
    "            x = x + dx\n",
    "        res = np.array(res)\n",
    "        self.res.update({\"f\":res[:,-1],\n",
    "                         \"x\":res[:,:-1],\n",
    "                         \"iter\":cnt})\n",
    "        return x\n",
    "\n",
    "if __name__ == \"__main__\":\n",
    "    import matplotlib.pyplot as plt\n",
    "    def f(x):\n",
    "        return (x[0]-3.5)**2 + (x[1]-2)**2\n",
    "    def df(x):\n",
    "        return np.array([2*(x[0]-3.5),2*(x[1]-2)])\n",
    "\n",
    "    fmin = adadelta(f)\n",
    "    x = fmin.minimize([-2,-2])\n",
    "\n",
    "    fs = fmin.res[\"f\"]\n",
    "    plt.plot(fs)\n",
    "    plt.show()"
   ]
  },
  {
   "cell_type": "code",
   "execution_count": null,
   "metadata": {
    "scrolled": false
   },
   "outputs": [],
   "source": []
  },
  {
   "cell_type": "code",
   "execution_count": null,
   "metadata": {},
   "outputs": [],
   "source": []
  }
 ],
 "metadata": {
  "kernelspec": {
   "display_name": "Python 3",
   "language": "python",
   "name": "python3"
  },
  "language_info": {
   "codemirror_mode": {
    "name": "ipython",
    "version": 3
   },
   "file_extension": ".py",
   "mimetype": "text/x-python",
   "name": "python",
   "nbconvert_exporter": "python",
   "pygments_lexer": "ipython3",
   "version": "3.9.1+"
  }
 },
 "nbformat": 4,
 "nbformat_minor": 2
}
