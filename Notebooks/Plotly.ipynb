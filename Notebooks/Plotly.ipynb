{
 "cells": [
  {
   "cell_type": "code",
   "execution_count": null,
   "metadata": {},
   "outputs": [],
   "source": [
    "import numpy as np\n",
    "import plotly as plt\n",
    "import plotly.graph_objects as go\n",
    "\n",
    "def plotly(**kwargs: dict) -> \"Plotly figure\":\n",
    "    axis = {'showline':True,\n",
    "              'linewidth':1,\n",
    "              'linecolor':'white',\n",
    "              'mirror':True,\n",
    "              'ticks':'outside',\n",
    "              'tickcolor':'white',\n",
    "              'tickwidth':1}\n",
    "    layout = {'template':'plotly_dark',\n",
    "             'margin':{'pad':5,'t':40}}\n",
    "    layout = go.Layout(xaxis=axis,\n",
    "                   yaxis=axis,\n",
    "                   **layout)\n",
    "    fig = go.Figure(**kwargs)\n",
    "    return fig\n",
    "\n",
    "x = np.linspace(-10,10,10000)\n",
    "data = [go.Scatter(x=x,y=np.sin(x-a),name='$%g$'%a)\n",
    "            for a in range(5)]\n",
    "\n",
    "fig = plotly(data=data,layout=layout)\n",
    "fig.update_layout(legend={'title':' Phase','bordercolor':'white','borderwidth':1,'x':1.05,'y':0.5},\n",
    "                  xaxis_title=r'$x$',\n",
    "                  yaxis_title=r\"$\\sin(x)$\",\n",
    "                  width=550,\n",
    "                  height=450,\n",
    "                  font={'size':12},\n",
    "                 )\n",
    "fig.show()\n",
    "#fig.write_html('plot.html',config={'displayModeBar':False})"
   ]
  },
  {
   "cell_type": "code",
   "execution_count": null,
   "metadata": {},
   "outputs": [],
   "source": []
  }
 ],
 "metadata": {
  "kernelspec": {
   "display_name": "Python 3",
   "language": "python",
   "name": "python3"
  },
  "language_info": {
   "codemirror_mode": {
    "name": "ipython",
    "version": 3
   },
   "file_extension": ".py",
   "mimetype": "text/x-python",
   "name": "python",
   "nbconvert_exporter": "python",
   "pygments_lexer": "ipython3",
   "version": "3.6.6+"
  }
 },
 "nbformat": 4,
 "nbformat_minor": 2
}
