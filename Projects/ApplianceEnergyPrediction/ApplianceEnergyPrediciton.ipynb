{
 "cells": [
  {
   "cell_type": "markdown",
   "metadata": {
    "id": "VfH_9ZaOwQpj"
   },
   "source": [
    "## Website \n",
    "https://archive.ics.uci.edu/ml/datasets/Appliances+energy+prediction\n",
    "## Source \n",
    "Luis Candanedo, luismiguel.candanedoibarra '@' umons.ac.be, University of Mons (UMONS). \n",
    "\n",
    "## Data Set Information:\n",
    "\n",
    "The data set is at 10 min for about 4.5 months. The house temperature and humidity conditions were monitored with a ZigBee wireless sensor network. Each wireless node transmitted the temperature and humidity conditions around 3.3 min. Then, the wireless data was averaged for 10 minutes periods. The energy data was logged every 10 minutes with m-bus energy meters. Weather from the nearest airport weather station (Chievres Airport, Belgium) was downloaded from a public data set from Reliable Prognosis (rp5.ru), and merged together with the experimental data sets using the date and time column. Two random variables have been included in the data set for testing the regression models and to filter out non predictive attributes (parameters). "
   ]
  },
  {
   "cell_type": "code",
   "execution_count": 1,
   "metadata": {
    "executionInfo": {
     "elapsed": 920,
     "status": "ok",
     "timestamp": 1618075668247,
     "user": {
      "displayName": "Dan V",
      "photoUrl": "",
      "userId": "17622867820549898122"
     },
     "user_tz": 300
    },
    "id": "c5FPRKtiwQpr"
   },
   "outputs": [],
   "source": [
    "import numpy as np\n",
    "import scipy as sp\n",
    "import pandas as pd\n",
    "from sklearn import (linear_model,pipeline,model_selection,preprocessing,\n",
    "                    tree,ensemble,svm,decomposition,multioutput,metrics,\n",
    "                    feature_selection)\n",
    "import matplotlib.pyplot as plt\n",
    "import seaborn as sns"
   ]
  },
  {
   "cell_type": "code",
   "execution_count": 2,
   "metadata": {},
   "outputs": [],
   "source": [
    "sns.set_theme(palette='Dark2',font_scale=1.5)"
   ]
  },
  {
   "cell_type": "code",
   "execution_count": 3,
   "metadata": {
    "colab": {
     "base_uri": "https://localhost:8080/"
    },
    "executionInfo": {
     "elapsed": 1035,
     "status": "ok",
     "timestamp": 1618074778092,
     "user": {
      "displayName": "Dan V",
      "photoUrl": "",
      "userId": "17622867820549898122"
     },
     "user_tz": 300
    },
    "id": "n7t58b8SwQps",
    "outputId": "8ac191f9-b329-4373-8909-7e4bd4e421c9"
   },
   "outputs": [
    {
     "name": "stdout",
     "output_type": "stream",
     "text": [
      "<class 'pandas.core.frame.DataFrame'>\n",
      "RangeIndex: 19735 entries, 0 to 19734\n",
      "Data columns (total 29 columns):\n",
      " #   Column       Non-Null Count  Dtype  \n",
      "---  ------       --------------  -----  \n",
      " 0   date         19735 non-null  object \n",
      " 1   Appliances   19735 non-null  int64  \n",
      " 2   lights       19735 non-null  int64  \n",
      " 3   T1           19735 non-null  float64\n",
      " 4   RH_1         19735 non-null  float64\n",
      " 5   T2           19735 non-null  float64\n",
      " 6   RH_2         19735 non-null  float64\n",
      " 7   T3           19735 non-null  float64\n",
      " 8   RH_3         19735 non-null  float64\n",
      " 9   T4           19735 non-null  float64\n",
      " 10  RH_4         19735 non-null  float64\n",
      " 11  T5           19735 non-null  float64\n",
      " 12  RH_5         19735 non-null  float64\n",
      " 13  T6           19735 non-null  float64\n",
      " 14  RH_6         19735 non-null  float64\n",
      " 15  T7           19735 non-null  float64\n",
      " 16  RH_7         19735 non-null  float64\n",
      " 17  T8           19735 non-null  float64\n",
      " 18  RH_8         19735 non-null  float64\n",
      " 19  T9           19735 non-null  float64\n",
      " 20  RH_9         19735 non-null  float64\n",
      " 21  T_out        19735 non-null  float64\n",
      " 22  Press_mm_hg  19735 non-null  float64\n",
      " 23  RH_out       19735 non-null  float64\n",
      " 24  Windspeed    19735 non-null  float64\n",
      " 25  Visibility   19735 non-null  float64\n",
      " 26  Tdewpoint    19735 non-null  float64\n",
      " 27  rv1          19735 non-null  float64\n",
      " 28  rv2          19735 non-null  float64\n",
      "dtypes: float64(26), int64(2), object(1)\n",
      "memory usage: 4.4+ MB\n",
      "\n",
      "info \n",
      " None\n"
     ]
    }
   ],
   "source": [
    "energy = pd.read_csv('energydata_complete.csv')\n",
    "# info\n",
    "print(\"\\ninfo \\n\",energy.info())"
   ]
  },
  {
   "cell_type": "code",
   "execution_count": 4,
   "metadata": {
    "executionInfo": {
     "elapsed": 1333,
     "status": "ok",
     "timestamp": 1618074778398,
     "user": {
      "displayName": "Dan V",
      "photoUrl": "",
      "userId": "17622867820549898122"
     },
     "user_tz": 300
    },
    "id": "2vnbfrg5wQpt"
   },
   "outputs": [],
   "source": [
    "# Need to convert time stamp (date) to number of seconds to midnight and store it in dataframe\n",
    "def timeConvert(ds):\n",
    "    import datetime\n",
    "    date_time = datetime.datetime.strptime(ds, \"%H:%M:%S\")\n",
    "    a_timedelta = date_time - datetime.datetime(1900, 1, 1)\n",
    "    seconds = a_timedelta.total_seconds()\n",
    "    return seconds\n",
    "\n",
    "time = [t.split(None,1)[1] for t in energy['date']]\n",
    "24*timeConvert(\"1:00:00\")\n",
    "timeConvert(\"23:00:00\")\n",
    "NSM = [timeConvert(t) for t in time]\n",
    "energy['NSM'] = NSM"
   ]
  },
  {
   "cell_type": "code",
   "execution_count": 5,
   "metadata": {
    "colab": {
     "base_uri": "https://localhost:8080/"
    },
    "executionInfo": {
     "elapsed": 419,
     "status": "ok",
     "timestamp": 1618076144298,
     "user": {
      "displayName": "Dan V",
      "photoUrl": "",
      "userId": "17622867820549898122"
     },
     "user_tz": 300
    },
    "id": "kDjVZeUHx38j",
    "outputId": "35c7241c-e51e-4444-fad8-dc8d45f82b67"
   },
   "outputs": [
    {
     "name": "stdout",
     "output_type": "stream",
     "text": [
      "Index(['lights', 'T1', 'RH_1', 'T2', 'RH_2', 'T3', 'RH_3', 'T4', 'RH_4', 'T5',\n",
      "       'RH_5', 'T6', 'RH_6', 'T7', 'RH_7', 'T8', 'RH_8', 'T9', 'RH_9', 'T_out',\n",
      "       'Press_mm_hg', 'RH_out', 'Windspeed', 'Visibility', 'Tdewpoint', 'rv1',\n",
      "       'rv2', 'NSM'],\n",
      "      dtype='object')\n",
      "RangeIndex(start=0, stop=19735, step=1)\n",
      "Selected features =  ['lights', 'RH_1', 'T2', 'RH_2', 'T3', 'RH_3', 'T4', 'T6', 'RH_7', 'T8', 'RH_8', 'T9', 'T_out', 'Windspeed']\n"
     ]
    }
   ],
   "source": [
    "# extrain features and outputs. Store them in X and y\n",
    "X = energy.drop(columns=['date','Appliances'])\n",
    "y = energy['Appliances']\n",
    "print(X.keys())\n",
    "print(y.keys())\n",
    "# feature selection\n",
    "# not sure if this should be combined with pipeline. need to check\n",
    "rfe_selector = feature_selection.RFE(estimator=linear_model.Ridge(),n_features_to_select=None)\n",
    "rfe_selector.fit(X, y)\n",
    "rfe_support = rfe_selector.get_support()\n",
    "X = X.loc[:,rfe_support]\n",
    "print(\"Selected features = \",X.columns.tolist())"
   ]
  },
  {
   "cell_type": "code",
   "execution_count": 6,
   "metadata": {
    "colab": {
     "base_uri": "https://localhost:8080/"
    },
    "executionInfo": {
     "elapsed": 12238,
     "status": "ok",
     "timestamp": 1618076791169,
     "user": {
      "displayName": "Dan V",
      "photoUrl": "",
      "userId": "17622867820549898122"
     },
     "user_tz": 300
    },
    "id": "bAzrPb_jwQpu",
    "outputId": "caba5a50-7063-48db-fbb7-6fa695798bb2"
   },
   "outputs": [
    {
     "name": "stdout",
     "output_type": "stream",
     "text": [
      "-> RMSE of training set = 79.7684 with score = 0.399519\n",
      "-> RMSE = 84.901 of test set with score = 0.297023\n",
      "best parameters from cross validsation:  {'pf__degree': 3, 'rdg__alpha': 5}\n",
      "best score from cross validation:  0.3123499208185635\n"
     ]
    }
   ],
   "source": [
    "# split test set\n",
    "Xtrain, Xtest, ytrain,ytest = model_selection.train_test_split(X,y)\n",
    "# parameters to pass to gridsearchcv\n",
    "parameters = {'rdg__alpha':[0.1,0.5,1,5,10],\n",
    "              'pf__degree':range(1,4)}\n",
    "# build pipeline with feature scaling and Ridge linear regression\n",
    "pipe = pipeline.Pipeline([\n",
    "                          ('std',preprocessing.StandardScaler()),\n",
    "                          ('pf',preprocessing.PolynomialFeatures()),\n",
    "                          ('rdg',linear_model.Ridge())\n",
    "])\n",
    "model = model_selection.GridSearchCV(pipe,\n",
    "                                     parameters,\n",
    "                                     refit=True,\n",
    "                                     n_jobs=-1)\n",
    "model.fit(Xtrain,ytrain)\n",
    "# prediction training set and test set \n",
    "ptrain = model.predict(Xtrain)\n",
    "ptest = model.predict(Xtest)\n",
    "\n",
    "err_train = metrics.mean_squared_error(ytrain,ptrain)\n",
    "print(\"-> RMSE of training set = %g with score = %g\"%(err_train**0.5,model.score(Xtrain,ytrain)))\n",
    "\n",
    "err_test = metrics.mean_squared_error(ytest,ptest)\n",
    "print(\"-> RMSE = %g of test set with score = %g\"%(err_test**0.5,model.score(Xtest,ytest)))\n",
    "\n",
    "print('best parameters from cross validsation: ',model.best_params_)\n",
    "print('best score from cross validation: ',model.best_score_)"
   ]
  },
  {
   "cell_type": "code",
   "execution_count": 7,
   "metadata": {
    "colab": {
     "base_uri": "https://localhost:8080/"
    },
    "executionInfo": {
     "elapsed": 436882,
     "status": "ok",
     "timestamp": 1618078548204,
     "user": {
      "displayName": "Dan V",
      "photoUrl": "",
      "userId": "17622867820549898122"
     },
     "user_tz": 300
    },
    "id": "W3Xj-6XiwQpv",
    "outputId": "2b73c518-8720-4870-ed45-ee1761df7f1c",
    "tags": []
   },
   "outputs": [
    {
     "name": "stdout",
     "output_type": "stream",
     "text": [
      "-> RMSE of training set = 13.2029 with score = 0.983728\n",
      "-> RMSE = 71.3125 of test set with score = 0.486554\n",
      "best parameters from cross validsation:  {'gbm__max_depth': 5, 'gbm__n_estimators': 2000}\n",
      "best score from cross validation:  0.4665073544403017\n"
     ]
    }
   ],
   "source": [
    "# split test set\n",
    "Xtrain, Xtest, ytrain,ytest = model_selection.train_test_split(X,y)\n",
    "# parameters to pass to gridsearchcv\n",
    "parameters = {'gbm__max_depth':[5],\n",
    "              'gbm__n_estimators':[100,500,1000,1500,2000]}\n",
    "# build pipeline with feature scaling and Ridge linear regression\n",
    "pipe = pipeline.Pipeline([\n",
    "                          ('std',preprocessing.StandardScaler()),\n",
    "                          ('gbm',ensemble.GradientBoostingRegressor())\n",
    "])\n",
    "model = model_selection.GridSearchCV(pipe,\n",
    "                                     parameters,\n",
    "                                     refit=True,\n",
    "                                     return_train_score=True,\n",
    "                                     n_jobs=-1)\n",
    "model.fit(Xtrain,ytrain)\n",
    "# prediction training set and test set \n",
    "ptrain = model.predict(Xtrain)\n",
    "ptest = model.predict(Xtest)\n",
    "\n",
    "err_train = metrics.mean_squared_error(ytrain,ptrain)\n",
    "print(\"-> RMSE of training set = %g with score = %g\"%(err_train**0.5,model.score(Xtrain,ytrain)))\n",
    "\n",
    "err_test = metrics.mean_squared_error(ytest,ptest)\n",
    "print(\"-> RMSE = %g of test set with score = %g\"%(err_test**0.5,model.score(Xtest,ytest)))\n",
    "\n",
    "print('best parameters from cross validsation: ',model.best_params_)\n",
    "print('best score from cross validation: ',model.best_score_)"
   ]
  },
  {
   "cell_type": "code",
   "execution_count": 8,
   "metadata": {
    "colab": {
     "base_uri": "https://localhost:8080/",
     "height": 496
    },
    "executionInfo": {
     "elapsed": 957,
     "status": "ok",
     "timestamp": 1618081367576,
     "user": {
      "displayName": "Dan V",
      "photoUrl": "",
      "userId": "17622867820549898122"
     },
     "user_tz": 300
    },
    "id": "hxHlWkD6wQpv",
    "outputId": "f2e70a21-2bab-4f20-bec2-c7bbd057de4f"
   },
   "outputs": [
    {
     "data": {
      "image/png": "[encoded data removed]",
      "text/plain": [
       "<Figure size 720x432 with 1 Axes>"
      ]
     },
     "metadata": {},
     "output_type": "display_data"
    }
   ],
   "source": [
    "params = pd.DataFrame(model.cv_results_)\n",
    "fig,ax = plt.subplots(figsize=(10,6))\n",
    "sns.lineplot(data=params,\n",
    "             x=\"param_gbm__n_estimators\",\n",
    "             y=\"mean_train_score\")\n",
    "sns.lineplot(data=params,\n",
    "             x=\"param_gbm__n_estimators\",\n",
    "             y=\"mean_test_score\")\n",
    "ax.set(xlabel=\"n estimators\",ylabel=\"mean scores\")\n",
    "plt.legend(labels=['train','test'])\n",
    "plt.show()"
   ]
  },
  {
   "cell_type": "code",
   "execution_count": 9,
   "metadata": {},
   "outputs": [
    {
     "name": "stdout",
     "output_type": "stream",
     "text": [
      "-> RMSE of training set = 81.1194 with score = 0.366351\n",
      "-> RMSE = 85.4797 of test set with score = 0.328874\n",
      "best parameters from cross validsation:  {'gbm__max_features': 17}\n",
      "best score from cross validation:  0.29378771577516716\n"
     ]
    }
   ],
   "source": [
    "# extrain features and outputs. Store them in X and y\n",
    "X = energy.drop(columns=['date','Appliances'])\n",
    "y = energy['Appliances']\n",
    "# training examples x features\n",
    "m,n = X.shape\n",
    "# split test set\n",
    "Xtrain, Xtest, ytrain,ytest = model_selection.train_test_split(X,y)\n",
    "# parameters to pass to gridsearchcv\n",
    "parameters = {'gbm__max_features':range(1,n,2)}\n",
    "# build pipeline with feature scaling and Ridge linear regression\n",
    "pipe = pipeline.Pipeline([\n",
    "                          ('std',preprocessing.StandardScaler()),\n",
    "                          ('gbm',ensemble.GradientBoostingRegressor())\n",
    "])\n",
    "model = model_selection.GridSearchCV(pipe,\n",
    "                                     parameters,\n",
    "                                     refit=True,\n",
    "                                     return_train_score=True,\n",
    "                                     n_jobs=-1)\n",
    "model.fit(Xtrain,ytrain)\n",
    "# prediction training set and test set \n",
    "ptrain = model.predict(Xtrain)\n",
    "ptest = model.predict(Xtest)\n",
    "\n",
    "err_train = metrics.mean_squared_error(ytrain,ptrain)\n",
    "print(\"-> RMSE of training set = %g with score = %g\"%(err_train**0.5,model.score(Xtrain,ytrain)))\n",
    "\n",
    "err_test = metrics.mean_squared_error(ytest,ptest)\n",
    "print(\"-> RMSE = %g of test set with score = %g\"%(err_test**0.5,model.score(Xtest,ytest)))\n",
    "\n",
    "print('best parameters from cross validsation: ',model.best_params_)\n",
    "print('best score from cross validation: ',model.best_score_)"
   ]
  },
  {
   "cell_type": "code",
   "execution_count": 10,
   "metadata": {},
   "outputs": [
    {
     "name": "stdout",
     "output_type": "stream",
     "text": [
      "dict_keys(['mean_fit_time', 'std_fit_time', 'mean_score_time', 'std_score_time', 'param_gbm__max_features', 'params', 'split0_test_score', 'split1_test_score', 'split2_test_score', 'split3_test_score', 'split4_test_score', 'mean_test_score', 'std_test_score', 'rank_test_score', 'split0_train_score', 'split1_train_score', 'split2_train_score', 'split3_train_score', 'split4_train_score', 'mean_train_score', 'std_train_score'])\n"
     ]
    },
    {
     "data": {
      "image/png": "[encoded data removed]",
      "text/plain": [
       "<Figure size 720x432 with 1 Axes>"
      ]
     },
     "metadata": {},
     "output_type": "display_data"
    }
   ],
   "source": [
    "nf = range(1,n,2)\n",
    "params = model.cv_results_\n",
    "print(params.keys())\n",
    "fig,ax = plt.subplots(figsize=(10,6))\n",
    "sns.lineplot(x=nf,y=params['mean_test_score'])\n",
    "ax.set(xlabel=\"features\",ylabel=\"mean test score\")\n",
    "plt.show()"
   ]
  },
  {
   "cell_type": "code",
   "execution_count": 19,
   "metadata": {},
   "outputs": [
    {
     "data": {
      "image/png": "[encoded data removed]",
      "text/plain": [
       "<Figure size 720x432 with 1 Axes>"
      ]
     },
     "metadata": {},
     "output_type": "display_data"
    }
   ],
   "source": [
    "fig,ax = plt.subplots(figsize=(10,6))\n",
    "sns.histplot(data=energy,x=\"Appliances\",kde=True)\n",
    "plt.show()"
   ]
  },
  {
   "cell_type": "code",
   "execution_count": 15,
   "metadata": {},
   "outputs": [
    {
     "name": "stdout",
     "output_type": "stream",
     "text": [
      "-> RMSE of training set = 32.5891 with score = 0.899655\n",
      "-> RMSE = 70.379 of test set with score = 0.518701\n",
      "best parameters from cross validsation:  {'gbm__max_features': 17, 'gbm__n_estimators': 3000}\n",
      "best score from cross validation:  0.4761945354727516\n"
     ]
    }
   ],
   "source": [
    "# extrain features and outputs. Store them in X and y\n",
    "X = energy.drop(columns=['date','Appliances'])\n",
    "y = energy['Appliances']\n",
    "# training examples x features\n",
    "m,n = X.shape\n",
    "# split test set\n",
    "Xtrain, Xtest, ytrain,ytest = model_selection.train_test_split(X,y)\n",
    "# parameters to pass to gridsearchcv\n",
    "parameters = {'gbm__max_features':[17],\n",
    "              'gbm__n_estimators':[3000]}\n",
    "# build pipeline with feature scaling and Ridge linear regression\n",
    "pipe = pipeline.Pipeline([\n",
    "                          ('std',preprocessing.StandardScaler()),\n",
    "                          ('gbm',ensemble.GradientBoostingRegressor())\n",
    "])\n",
    "model = model_selection.GridSearchCV(pipe,\n",
    "                                     parameters,\n",
    "                                     refit=True,\n",
    "                                     return_train_score=True,\n",
    "                                     n_jobs=-1)\n",
    "model.fit(Xtrain,ytrain)\n",
    "# prediction training set and test set \n",
    "ptrain = model.predict(Xtrain)\n",
    "ptest = model.predict(Xtest)\n",
    "\n",
    "err_train = metrics.mean_squared_error(ytrain,ptrain)\n",
    "print(\"-> RMSE of training set = %g with score = %g\"%(err_train**0.5,model.score(Xtrain,ytrain)))\n",
    "\n",
    "err_test = metrics.mean_squared_error(ytest,ptest)\n",
    "print(\"-> RMSE = %g of test set with score = %g\"%(err_test**0.5,model.score(Xtest,ytest)))\n",
    "\n",
    "print('best parameters from cross validsation: ',model.best_params_)\n",
    "print('best score from cross validation: ',model.best_score_)"
   ]
  },
  {
   "cell_type": "code",
   "execution_count": null,
   "metadata": {},
   "outputs": [],
   "source": []
  }
 ],
 "metadata": {
  "colab": {
   "collapsed_sections": [],
   "name": "ApplianceEnergyPrediciton.ipynb",
   "provenance": []
  },
  "kernelspec": {
   "display_name": "Python 3.8 (py38)",
   "language": "python",
   "name": "py38"
  },
  "language_info": {
   "codemirror_mode": {
    "name": "ipython",
    "version": 3
   },
   "file_extension": ".py",
   "mimetype": "text/x-python",
   "name": "python",
   "nbconvert_exporter": "python",
   "pygments_lexer": "ipython3",
   "version": "3.8.5"
  }
 },
 "nbformat": 4,
 "nbformat_minor": 4
}
