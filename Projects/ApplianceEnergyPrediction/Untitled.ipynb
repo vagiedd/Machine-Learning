{
 "cells": [
  {
   "cell_type": "markdown",
   "metadata": {},
   "source": [
    "## Website \n",
    "https://archive.ics.uci.edu/ml/datasets/Appliances+energy+prediction\n",
    "## Source \n",
    "Luis Candanedo, luismiguel.candanedoibarra '@' umons.ac.be, University of Mons (UMONS). \n",
    "\n",
    "## Data Set Information:\n",
    "\n",
    "The data set is at 10 min for about 4.5 months. The house temperature and humidity conditions were monitored with a ZigBee wireless sensor network. Each wireless node transmitted the temperature and humidity conditions around 3.3 min. Then, the wireless data was averaged for 10 minutes periods. The energy data was logged every 10 minutes with m-bus energy meters. Weather from the nearest airport weather station (Chievres Airport, Belgium) was downloaded from a public data set from Reliable Prognosis (rp5.ru), and merged together with the experimental data sets using the date and time column. Two random variables have been included in the data set for testing the regression models and to filter out non predictive attributes (parameters). "
   ]
  },
  {
   "cell_type": "code",
   "execution_count": 1,
   "metadata": {},
   "outputs": [],
   "source": [
    "import numpy as np\n",
    "import pandas as pd\n",
    "import matplotlib.pyplot as plt\n",
    "import seaborn as sns"
   ]
  },
  {
   "cell_type": "code",
   "execution_count": 2,
   "metadata": {},
   "outputs": [
    {
     "name": "stdout",
     "output_type": "stream",
     "text": [
      "<class 'pandas.core.frame.DataFrame'>\n",
      "RangeIndex: 19735 entries, 0 to 19734\n",
      "Data columns (total 29 columns):\n",
      " #   Column       Non-Null Count  Dtype  \n",
      "---  ------       --------------  -----  \n",
      " 0   date         19735 non-null  object \n",
      " 1   Appliances   19735 non-null  int64  \n",
      " 2   lights       19735 non-null  int64  \n",
      " 3   T1           19735 non-null  float64\n",
      " 4   RH_1         19735 non-null  float64\n",
      " 5   T2           19735 non-null  float64\n",
      " 6   RH_2         19735 non-null  float64\n",
      " 7   T3           19735 non-null  float64\n",
      " 8   RH_3         19735 non-null  float64\n",
      " 9   T4           19735 non-null  float64\n",
      " 10  RH_4         19735 non-null  float64\n",
      " 11  T5           19735 non-null  float64\n",
      " 12  RH_5         19735 non-null  float64\n",
      " 13  T6           19735 non-null  float64\n",
      " 14  RH_6         19735 non-null  float64\n",
      " 15  T7           19735 non-null  float64\n",
      " 16  RH_7         19735 non-null  float64\n",
      " 17  T8           19735 non-null  float64\n",
      " 18  RH_8         19735 non-null  float64\n",
      " 19  T9           19735 non-null  float64\n",
      " 20  RH_9         19735 non-null  float64\n",
      " 21  T_out        19735 non-null  float64\n",
      " 22  Press_mm_hg  19735 non-null  float64\n",
      " 23  RH_out       19735 non-null  float64\n",
      " 24  Windspeed    19735 non-null  float64\n",
      " 25  Visibility   19735 non-null  float64\n",
      " 26  Tdewpoint    19735 non-null  float64\n",
      " 27  rv1          19735 non-null  float64\n",
      " 28  rv2          19735 non-null  float64\n",
      "dtypes: float64(26), int64(2), object(1)\n",
      "memory usage: 4.4+ MB\n",
      "\n",
      "info \n",
      " None\n"
     ]
    }
   ],
   "source": [
    "energy = pd.read_csv('energydata_complete.csv')\n",
    "# info\n",
    "print(\"\\ninfo \\n\",energy.info())"
   ]
  },
  {
   "cell_type": "code",
   "execution_count": 3,
   "metadata": {},
   "outputs": [],
   "source": [
    "# Need to convert time stamp (date) to number of seconds to midnight and store it in dataframe\n",
    "\n",
    "def timeConvert(ds):\n",
    "    import datetime\n",
    "    date_time = datetime.datetime.strptime(ds, \"%H:%M:%S\")\n",
    "    a_timedelta = date_time - datetime.datetime(1900, 1, 1)\n",
    "    seconds = a_timedelta.total_seconds()\n",
    "    return seconds\n",
    "\n",
    "time = [t.split(None,1)[1] for t in energy['date']]\n",
    "24*timeConvert(\"1:00:00\")\n",
    "timeConvert(\"23:00:00\")\n",
    "NSM = [timeConvert(t) for t in time]\n",
    "energy['NSM'] = NSM"
   ]
  },
  {
   "cell_type": "code",
   "execution_count": 4,
   "metadata": {},
   "outputs": [],
   "source": [
    "from sklearn.feature_selection import RFE\n",
    "from sklearn.linear_model import LinearRegression,Ridge,RidgeCV\n",
    "from sklearn.ensemble import GradientBoostingRegressor\n",
    "from sklearn.preprocessing import StandardScaler,PolynomialFeatures\n",
    "from sklearn.model_selection import train_test_split\n",
    "import sklearn.metrics as metrics"
   ]
  },
  {
   "cell_type": "code",
   "execution_count": 5,
   "metadata": {},
   "outputs": [
    {
     "name": "stdout",
     "output_type": "stream",
     "text": [
      "Selected features =  ['RH_1', 'T2', 'RH_2', 'T3', 'RH_3', 'T4', 'RH_4', 'T6', 'T8', 'RH_8', 'T9', 'T_out', 'Windspeed']\n",
      "\n",
      "Degree = 1\n",
      "-> RMSE of training set = 67.624 with score = 0.168809\n",
      "-> RMSE = 66.4029 of test set with score = 0.181157\n",
      "\n",
      "Degree = 2\n",
      "-> RMSE of training set = 64.0836 with score = 0.264584\n",
      "-> RMSE = 63.6058 of test set with score = 0.255576\n",
      "\n",
      "Degree = 3\n",
      "-> RMSE of training set = 57.0273 with score = 0.404708\n",
      "-> RMSE = 62.6404 of test set with score = 0.356416\n"
     ]
    }
   ],
   "source": [
    "columns = [col for col in energy.columns if col not in ('date','lights','Appliances')]\n",
    "X = energy[columns]\n",
    "y = energy[['lights','Appliances']]\n",
    "\n",
    "# feature selection\n",
    "rfe_selector = RFE(estimator=Ridge(),n_features_to_select=None)\n",
    "rfe_selector.fit(X, y)\n",
    "rfe_support = rfe_selector.get_support()\n",
    "X = X.loc[:,rfe_support]\n",
    "print(\"Selected features = \",X.columns.tolist())\n",
    "\n",
    "# Normalize data\n",
    "std = StandardScaler()\n",
    "std.fit(X)\n",
    "X = std.transform(X)\n",
    "\n",
    "# Generate polynomial features\n",
    "Xtmp = X.copy()\n",
    "for d in (1,2,3):\n",
    "    print(\"\\nDegree = %g\"%d)\n",
    "    pf = PolynomialFeatures(degree=d)\n",
    "    pf.fit(X)\n",
    "    Xpoly = pf.transform(X)\n",
    "\n",
    "    # split test set\n",
    "    Xtrain, Xtest, ytrain,ytest = train_test_split(Xpoly,y)\n",
    "\n",
    "    # train model using Linear Regression with build in regularization\n",
    "    model = RidgeCV(alphas=[0.1,0.5,1,5,10])\n",
    "    model.fit(Xtrain,ytrain)\n",
    "\n",
    "    # prediction training set and test set \n",
    "    ptrain = model.predict(Xtrain)\n",
    "    ptest = model.predict(Xtest)\n",
    "\n",
    "    err_train = metrics.mean_squared_error(ytrain,ptrain)\n",
    "    print(\"-> RMSE of training set = %g with score = %g\"%(err_train**0.5,model.score(Xtrain,ytrain)))\n",
    "\n",
    "    err_test = metrics.mean_squared_error(ytest,ptest)\n",
    "    print(\"-> RMSE = %g of test set with score = %g\"%(err_test**0.5,model.score(Xtest,ytest)))"
   ]
  },
  {
   "cell_type": "code",
   "execution_count": 8,
   "metadata": {},
   "outputs": [
    {
     "name": "stdout",
     "output_type": "stream",
     "text": [
      "n = 100\n",
      "n = 500\n",
      "n = 1000\n",
      "n = 1500\n",
      "n = 2000\n",
      "n = 2500\n",
      "1500\n"
     ]
    },
    {
     "data": {
      "image/png": "[encoded data removed]",
      "text/plain": [
       "<Figure size 480x360 with 1 Axes>"
      ]
     },
     "metadata": {
      "image/png": {
       "height": 320,
       "width": 420
      }
     },
     "output_type": "display_data"
    },
    {
     "name": "stdout",
     "output_type": "stream",
     "text": [
      "-> RMSE = 12.3847 of training set with score = 0.985691\n",
      "-> RMSE = 68.2878 of test set with score = 0.509214\n"
     ]
    }
   ],
   "source": [
    "def cross_validate(X,y,Xcv,ycv,n,d=5):\n",
    "    print('n = %g'%n)\n",
    "    # train model using GradientBoosting Regression\n",
    "    model = GradientBoostingRegressor(n_estimators=n,max_depth=d)\n",
    "    model.fit(X,y)\n",
    "    # predictions  \n",
    "    ptest = model.predict(Xcv)\n",
    "    return metrics.mean_squared_error(ycv,ptest)**0.5\n",
    "\n",
    "columns = [col for col in energy.columns if col not in ('date','Appliances')]\n",
    "X = energy[columns]\n",
    "y = energy['Appliances']\n",
    "\n",
    "# Normalize data\n",
    "std = StandardScaler()\n",
    "std.fit(X)\n",
    "X = std.transform(X)\n",
    "\n",
    "# run cross validation to get best value for n_estimators in GradientBoostingRegressor\n",
    "# split data into 60% training, 20% cross validate, and 20% test\n",
    "n_estimators = [100,500,1000,1500,2000,2500]\n",
    "Xtrain,Xcv,ytrain,ycv = train_test_split(X,y,test_size=0.2)\n",
    "Xtrain,Xtest,ytrain,ytest = train_test_split(Xtrain,ytrain,test_size=len(ycv)/(1.0*len(ytrain)))\n",
    "cv_RMS = [cross_validate(Xtrain,ytrain,Xcv,ycv,n,d=5) for n in n_estimators]\n",
    "idx = np.argmin(cv_RMS)\n",
    "n = n_estimators[idx]\n",
    "print(n)\n",
    "plt.plot(n_estimators,cv_RMS)\n",
    "plt.show()\n",
    "\n",
    "# train model using GradientBoosting Regression\n",
    "model = GradientBoostingRegressor(n_estimators=n,max_depth=5)\n",
    "model.fit(Xtrain,ytrain)\n",
    "\n",
    "# prediction training set and test set \n",
    "ptrain = model.predict(Xtrain)\n",
    "ptest = model.predict(Xtest)\n",
    "\n",
    "err_train = metrics.mean_squared_error(ytrain,ptrain)\n",
    "print(\"-> RMSE = %g of training set with score = %g\"%(err_train**0.5,model.score(Xtrain,ytrain)))\n",
    "\n",
    "err_test = metrics.mean_squared_error(ytest,ptest)\n",
    "print(\"-> RMSE = %g of test set with score = %g\"%(err_test**0.5,model.score(Xtest,ytest)))"
   ]
  },
  {
   "cell_type": "code",
   "execution_count": 9,
   "metadata": {},
   "outputs": [
    {
     "name": "stdout",
     "output_type": "stream",
     "text": [
      "[80.22534423380851, 73.47119323795623, 71.86178852908269, 71.37474115260622, 71.48621058300121, 71.48156408432706]\n"
     ]
    }
   ],
   "source": [
    "print(cv_RMS)"
   ]
  },
  {
   "cell_type": "code",
   "execution_count": 10,
   "metadata": {},
   "outputs": [
    {
     "name": "stdout",
     "output_type": "stream",
     "text": [
      "19735 19735\n",
      "train percentage =  0.6\n",
      "test percentage =  0.2\n",
      "cross validation percentage =  0.2\n"
     ]
    }
   ],
   "source": [
    "ntrain = len(ytrain)\n",
    "ntest = len(ytest)\n",
    "ncv = len(ycv)\n",
    "ntot = len(y)\n",
    "print(ntrain + ntest + ncv,ntot)\n",
    "print(\"train percentage = \",ntrain/(1.0*ntot))\n",
    "print(\"test percentage = \",ntest/(1.0*ntot))\n",
    "print(\"cross validation percentage = \",ncv/(1.0*ntot))"
   ]
  },
  {
   "cell_type": "code",
   "execution_count": null,
   "metadata": {},
   "outputs": [],
   "source": []
  }
 ],
 "metadata": {
  "kernelspec": {
   "display_name": "Python 3",
   "language": "python",
   "name": "python3"
  },
  "language_info": {
   "codemirror_mode": {
    "name": "ipython",
    "version": 3
   },
   "file_extension": ".py",
   "mimetype": "text/x-python",
   "name": "python",
   "nbconvert_exporter": "python",
   "pygments_lexer": "ipython3",
   "version": "3.6.6+"
  }
 },
 "nbformat": 4,
 "nbformat_minor": 2
}
