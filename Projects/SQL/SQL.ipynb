{
 "cells": [
  {
   "cell_type": "code",
   "execution_count": 1,
   "metadata": {},
   "outputs": [],
   "source": [
    "%matplotlib inline\n",
    "import numpy as np\n",
    "import scipy as sp\n",
    "import matplotlib.pyplot as plt\n",
    "import seaborn as sns\n",
    "import pandas as pd\n",
    "sns.set(palette=\"dark\")"
   ]
  },
  {
   "cell_type": "code",
   "execution_count": 2,
   "metadata": {},
   "outputs": [],
   "source": [
    "# Import Python libraries to work with SciServer (see http://www.sciserver.org/docs/sciscript-python/)\n",
    "\n",
    "import SciServer.CasJobs as CasJobs     # query with CasJobs, the primary database for the SDSS\n",
    "import SciServer.SkyServer as SkyServer # show individual objects through SkyServer\n",
    "import SciServer.SciDrive               # read/write to/from SciDrive, cloud-based storage for your work\n",
    "import pandas                           # package for structuring and visualizing data"
   ]
  },
  {
   "cell_type": "markdown",
   "metadata": {},
   "source": [
    "# About SQL\n",
    "Before you begin searching SkyServer, you should get a quick introduction what it means to search for data. SkyServer's information on all sky objects - stars, galaxies, and others - is stored in a database, a storehouse for data. A request to a database to return some information is called a query. When you ask a database for information, you must write your query in some computer language that the database can understand. SkyServer, like many other databases, uses Structured Query Language (SQL). When you write a query with SQL, the database searches for all records that meet your search criteria; in the case of SkyServer, each record is the information on a single observation of a single object in the sky.\n",
    "But you have to be careful when you write a query: since the database contains hundreds of pieces of information for each of millions of objects, a poorly written query could return Gigabytes of information that won't help you at all. The best possible query will return all the information that you need, and no information that you don't need. Writing queries is an art - before you start writing, you need to think carefully about what information you need.\n",
    "\n",
    "# The Database Structure\n",
    "To know what information you need, you need to know exactly what information the database contains. The SkyServer database is divided into a series of tables. Each table contains data of a different type. For example, all data related to an object's spectrum are stored in a table called specObjAll. All data related to an object's image properties are stored in a table called photoObjAll. SkyServer contains many tables, although most of the commonly accessed data are stored in just three or four of them.\n",
    "Each table contains a series of data columns. A column contains only one type of data - for example, magnitude or sky position. Each record consists of a series of columns, although some columns may be empty for some records. Some tables contain only two or three columns; some contain hundreds! Knowing exactly which table and which column contains the data you want can be a challenge.\n",
    "\n",
    "# The Schema Browser\n",
    "A tool called the Schema Browser (http://cas.sdss.org/dr16/en/help/browser/browser.aspx) allows you to study all the tables and data columns, to find where the data you want are located. The Schema Browser can be intimidating, but it is easy to use. In the left-hand column, you can either browse through various tables to find a specific column, or you can search for keywords in all the column descriptions.\n",
    "To browse through the tables, click on \"Tables\" in the left-hand column. (Note: some tables, like \"specObj,\" are under \"Views\" instead...more on that later!) A list of all tables will appear under the Tables link. Click on the name of the one that you are interested in, and a list of that table's columns will appear on the right.\n",
    "To search through all the tables to find a keyword, enter the keyword in the Search box and hit Go. A list of matching table columns and descriptions will appear on the right.\n",
    "There is a ton of information here. In practice, one would never need to look at more than a small fraction of it. Moreover, although you can look up stuff in the tables (such as photoObjAll and specObjAll) directly, in practice you can use their associated views, which contain only the best SDSS observation for each object.\n",
    "\n",
    "# Views you might use include:\n",
    "photoObj contains photometric (imaging) data for only the best observation of each sky object (http://cas.sdss.org/dr16/en/help/browser/browser.aspx#&&history=description+PhotoObj+V)\n",
    "star contains best SDSS observations for stars only (http://cas.sdss.org/dr16/en/help/browser/browser.aspx#&&history=description+Star+V)\n",
    "galaxy contains best SDSS observations for galaxies only (http://cas.sdss.org/dr16/en/help/browser/browser.aspx#&&history=description+Galaxy+V)\n",
    "specObj contains spectroscopic data for only the best observation of each sky object observed by the SDSS spectrograph (http://cas.sdss.org/dr16/en/help/browser/browser.aspx#&&history=description+SpecObj+V)\n",
    "\n",
    "# SpecPhoto\n",
    "For this portion of this class, it looks like we can get away with using only one view: SpecPhoto. We will therefore avoid the slight complication of searching for information that is contained in several different tables. SpecPhoto is \"a view of joined Spectro and Photo objects that have the clean spectra.\" So it contains things that you can measure from spectra (redshifts) and things you can measure from the images (photometry). It also contains the object type.\n",
    "The schema browser webpage for SpecPhoto is here: http://skyserver.sdss.org/dr16/en/help/browser/browser.aspx#&&history=description+SpecPhoto+V\n",
    "\n",
    "# A Simple Query¶\n",
    "An SQL query consists of three pieces, or blocks: the select block, the from block and the where block.\n",
    "The select block tells the database which columns of data you want it to return. You must separate each column name with a comma. For example, if you wanted to find the celestial coordinates right ascension (ra) and declination (dec) of an object, the select block might read\n",
    "\n",
    "    select ra, dec\n",
    "\n",
    "The from block specifies which table (or tables) you want to search. If you wanted to retrieve information from the specObj table, the from block would read\n",
    "\n",
    "    from SpecPhoto\n",
    "\n",
    "The where block allows you to search for records with certain characteristics. Your list of characteristics must be separated by the word \"AND\". Suppose you wanted to limit your search to a patch of sky with ra between 140 and 141 degrees and dec between 20 and 21 degrees. To search only this patch of sky, your where block would read\n",
    "\n",
    "    where\n",
    "    ra BETWEEN 140 AND 141 AND\n",
    "    dec BETWEEN 20 AND 21\n",
    "\n",
    "The database will return only those records that have an ra between 140 and 141 and a dec between 20 and 21."
   ]
  },
  {
   "cell_type": "markdown",
   "metadata": {},
   "source": [
    "## Query 1\n",
    "Select all columns from the database but only keeping the top 3 rows to limit size of table. Then print out the column names in table."
   ]
  },
  {
   "cell_type": "code",
   "execution_count": 3,
   "metadata": {},
   "outputs": [
    {
     "name": "stdout",
     "output_type": "stream",
     "text": [
      "(3, 122)\n"
     ]
    },
    {
     "data": {
      "text/plain": [
       "['specObjID',\n",
       " 'mjd',\n",
       " 'plate',\n",
       " 'tile',\n",
       " 'fiberID',\n",
       " 'z',\n",
       " 'zErr',\n",
       " 'class',\n",
       " 'subClass',\n",
       " 'zWarning',\n",
       " 'ra',\n",
       " 'dec',\n",
       " 'cx',\n",
       " 'cy',\n",
       " 'cz',\n",
       " 'htmID',\n",
       " 'sciencePrimary',\n",
       " 'legacyPrimary',\n",
       " 'seguePrimary',\n",
       " 'segue1Primary',\n",
       " 'segue2Primary',\n",
       " 'bossPrimary',\n",
       " 'sdssPrimary',\n",
       " 'survey',\n",
       " 'programname',\n",
       " 'legacy_target1',\n",
       " 'legacy_target2',\n",
       " 'special_target1',\n",
       " 'special_target2',\n",
       " 'segue1_target1',\n",
       " 'segue1_target2',\n",
       " 'segue2_target1',\n",
       " 'segue2_target2',\n",
       " 'boss_target1',\n",
       " 'ancillary_target1',\n",
       " 'ancillary_target2',\n",
       " 'plateID',\n",
       " 'sourceType',\n",
       " 'targetObjID',\n",
       " 'objID',\n",
       " 'skyVersion',\n",
       " 'run',\n",
       " 'rerun',\n",
       " 'camcol',\n",
       " 'field',\n",
       " 'obj',\n",
       " 'mode',\n",
       " 'nChild',\n",
       " 'type',\n",
       " 'flags',\n",
       " 'psfMag_u',\n",
       " 'psfMag_g',\n",
       " 'psfMag_r',\n",
       " 'psfMag_i',\n",
       " 'psfMag_z',\n",
       " 'psfMagErr_u',\n",
       " 'psfMagErr_g',\n",
       " 'psfMagErr_r',\n",
       " 'psfMagErr_i',\n",
       " 'psfMagErr_z',\n",
       " 'fiberMag_u',\n",
       " 'fiberMag_g',\n",
       " 'fiberMag_r',\n",
       " 'fiberMag_i',\n",
       " 'fiberMag_z',\n",
       " 'fiberMagErr_u',\n",
       " 'fiberMagErr_g',\n",
       " 'fiberMagErr_r',\n",
       " 'fiberMagErr_i',\n",
       " 'fiberMagErr_z',\n",
       " 'petroMag_u',\n",
       " 'petroMag_g',\n",
       " 'petroMag_r',\n",
       " 'petroMag_i',\n",
       " 'petroMag_z',\n",
       " 'petroMagErr_u',\n",
       " 'petroMagErr_g',\n",
       " 'petroMagErr_r',\n",
       " 'petroMagErr_i',\n",
       " 'petroMagErr_z',\n",
       " 'modelMag_u',\n",
       " 'modelMag_g',\n",
       " 'modelMag_r',\n",
       " 'modelMag_i',\n",
       " 'modelMag_z',\n",
       " 'modelMagErr_u',\n",
       " 'modelMagErr_g',\n",
       " 'modelMagErr_r',\n",
       " 'modelMagErr_i',\n",
       " 'modelMagErr_z',\n",
       " 'cModelMag_u',\n",
       " 'cModelMag_g',\n",
       " 'cModelMag_r',\n",
       " 'cModelMag_i',\n",
       " 'cModelMag_z',\n",
       " 'cModelMagErr_u',\n",
       " 'cModelMagErr_g',\n",
       " 'cModelMagErr_r',\n",
       " 'cModelMagErr_i',\n",
       " 'cModelMagErr_z',\n",
       " 'mRrCc_r',\n",
       " 'mRrCcErr_r',\n",
       " 'score',\n",
       " 'resolveStatus',\n",
       " 'calibStatus_u',\n",
       " 'calibStatus_g',\n",
       " 'calibStatus_r',\n",
       " 'calibStatus_i',\n",
       " 'calibStatus_z',\n",
       " 'photoRa',\n",
       " 'photoDec',\n",
       " 'extinction_u',\n",
       " 'extinction_g',\n",
       " 'extinction_r',\n",
       " 'extinction_i',\n",
       " 'extinction_z',\n",
       " 'fieldID',\n",
       " 'dered_u',\n",
       " 'dered_g',\n",
       " 'dered_r',\n",
       " 'dered_i',\n",
       " 'dered_z']"
      ]
     },
     "execution_count": 3,
     "metadata": {},
     "output_type": "execute_result"
    }
   ],
   "source": [
    "# Find objects in the Sloan Digital Sky Survey's Data Release 16.\n",
    "#\n",
    "# Query the Sloan Digital Sky Serveys' Data Release 16.\n",
    "# For the database schema and documentation see http://skyserver.sdss.org/dr16\n",
    "#\n",
    "# store the query in an object called \"query\"\n",
    "\n",
    "query = (\n",
    "    \"\"\"\n",
    "    SELECT TOP 3 *\n",
    "        FROM specPhoto\n",
    "    \"\"\"\n",
    ")\n",
    "\n",
    "# execute the query to SDSS dr16 and store it in \"test\"\n",
    "test = CasJobs.executeQuery(query,\"dr16\")\n",
    "print(test.shape)\n",
    "test.keys().tolist()"
   ]
  },
  {
   "cell_type": "markdown",
   "metadata": {},
   "source": [
    "## Query 2\n",
    "Use aggregate functions such as MAX, MIN, AVG, and COUNT to return columns of important information about the data in table. "
   ]
  },
  {
   "cell_type": "code",
   "execution_count": 4,
   "metadata": {
    "scrolled": true
   },
   "outputs": [
    {
     "name": "stdout",
     "output_type": "stream",
     "text": [
      "(1, 7)\n"
     ]
    },
    {
     "data": {
      "text/html": [
       "<div>\n",
       "<style scoped>\n",
       "    .dataframe tbody tr th:only-of-type {\n",
       "        vertical-align: middle;\n",
       "    }\n",
       "\n",
       "    .dataframe tbody tr th {\n",
       "        vertical-align: top;\n",
       "    }\n",
       "\n",
       "    .dataframe thead th {\n",
       "        text-align: right;\n",
       "    }\n",
       "</style>\n",
       "<table border=\"1\" class=\"dataframe\">\n",
       "  <thead>\n",
       "    <tr style=\"text-align: right;\">\n",
       "      <th></th>\n",
       "      <th>max_ra</th>\n",
       "      <th>max_dec</th>\n",
       "      <th>min_ra</th>\n",
       "      <th>min_dec</th>\n",
       "      <th>mean_ra</th>\n",
       "      <th>mean_dec</th>\n",
       "      <th>count_data</th>\n",
       "    </tr>\n",
       "  </thead>\n",
       "  <tbody>\n",
       "    <tr>\n",
       "      <th>0</th>\n",
       "      <td>359.99994</td>\n",
       "      <td>84.852144</td>\n",
       "      <td>0.000091</td>\n",
       "      <td>-19.702714</td>\n",
       "      <td>172.803396</td>\n",
       "      <td>24.065093</td>\n",
       "      <td>4613773</td>\n",
       "    </tr>\n",
       "  </tbody>\n",
       "</table>\n",
       "</div>"
      ],
      "text/plain": [
       "      max_ra    max_dec    min_ra    min_dec     mean_ra   mean_dec  \\\n",
       "0  359.99994  84.852144  0.000091 -19.702714  172.803396  24.065093   \n",
       "\n",
       "   count_data  \n",
       "0     4613773  "
      ]
     },
     "execution_count": 4,
     "metadata": {},
     "output_type": "execute_result"
    }
   ],
   "source": [
    "query = (\n",
    "    \"\"\"\n",
    "    SELECT MAX(ra) AS max_ra,\n",
    "           MAX(dec) AS max_dec,\n",
    "           MIN(ra) AS min_ra,\n",
    "           MIN(dec) AS min_dec,\n",
    "           AVG(ra) AS mean_ra,\n",
    "           AVG(dec) AS mean_dec,\n",
    "           COUNT(ra) AS count_data\n",
    "        FROM specPhoto\n",
    "    \"\"\"\n",
    ")\n",
    "\n",
    "test = CasJobs.executeQuery(query,\"dr16\")\n",
    "print(test.shape)\n",
    "test.head(5)"
   ]
  },
  {
   "cell_type": "markdown",
   "metadata": {},
   "source": [
    "## Query 3\n",
    "Can use COUNT to determine the number of rows that match a specific classification and then group them according to that classification. CASE acts like an if else block to change values in the rows. LOWER/UPPER converts strings to upper or lower case. Need the GROUP BY clause to aggregate the results of class.\n"
   ]
  },
  {
   "cell_type": "code",
   "execution_count": 5,
   "metadata": {
    "scrolled": true
   },
   "outputs": [
    {
     "name": "stdout",
     "output_type": "stream",
     "text": [
      "(3, 2)\n"
     ]
    },
    {
     "data": {
      "text/html": [
       "<div>\n",
       "<style scoped>\n",
       "    .dataframe tbody tr th:only-of-type {\n",
       "        vertical-align: middle;\n",
       "    }\n",
       "\n",
       "    .dataframe tbody tr th {\n",
       "        vertical-align: top;\n",
       "    }\n",
       "\n",
       "    .dataframe thead th {\n",
       "        text-align: right;\n",
       "    }\n",
       "</style>\n",
       "<table border=\"1\" class=\"dataframe\">\n",
       "  <thead>\n",
       "    <tr style=\"text-align: right;\">\n",
       "      <th></th>\n",
       "      <th>count_class</th>\n",
       "      <th>class</th>\n",
       "    </tr>\n",
       "  </thead>\n",
       "  <tbody>\n",
       "    <tr>\n",
       "      <th>0</th>\n",
       "      <td>2787883</td>\n",
       "      <td>galaxy</td>\n",
       "    </tr>\n",
       "    <tr>\n",
       "      <th>1</th>\n",
       "      <td>864053</td>\n",
       "      <td>quasar</td>\n",
       "    </tr>\n",
       "    <tr>\n",
       "      <th>2</th>\n",
       "      <td>961837</td>\n",
       "      <td>star</td>\n",
       "    </tr>\n",
       "  </tbody>\n",
       "</table>\n",
       "</div>"
      ],
      "text/plain": [
       "   count_class   class\n",
       "0      2787883  galaxy\n",
       "1       864053  quasar\n",
       "2       961837    star"
      ]
     },
     "execution_count": 5,
     "metadata": {},
     "output_type": "execute_result"
    }
   ],
   "source": [
    "query = (\n",
    "    \"\"\"\n",
    "    SELECT COUNT(class) AS count_class, \n",
    "           CASE \n",
    "               WHEN class = 'QSO' THEN 'quasar'\n",
    "               ELSE LOWER(class)\n",
    "           END AS class\n",
    "        FROM specPhoto \n",
    "    GROUP BY class\n",
    "    \"\"\"\n",
    ")\n",
    "\n",
    "test = CasJobs.executeQuery(query,\"dr16\")\n",
    "print(test.shape)\n",
    "test.head(5)"
   ]
  },
  {
   "cell_type": "markdown",
   "metadata": {},
   "source": [
    "## Query 4\n",
    "Final query to choose a subset of the columns. We can select values of ra and dec that fall in a certain range using WHERE. The ranges used are within the min and max found in the previous query."
   ]
  },
  {
   "cell_type": "code",
   "execution_count": 6,
   "metadata": {},
   "outputs": [
    {
     "name": "stdout",
     "output_type": "stream",
     "text": [
      "(475, 9)\n"
     ]
    },
    {
     "data": {
      "text/html": [
       "<div>\n",
       "<style scoped>\n",
       "    .dataframe tbody tr th:only-of-type {\n",
       "        vertical-align: middle;\n",
       "    }\n",
       "\n",
       "    .dataframe tbody tr th {\n",
       "        vertical-align: top;\n",
       "    }\n",
       "\n",
       "    .dataframe thead th {\n",
       "        text-align: right;\n",
       "    }\n",
       "</style>\n",
       "<table border=\"1\" class=\"dataframe\">\n",
       "  <thead>\n",
       "    <tr style=\"text-align: right;\">\n",
       "      <th></th>\n",
       "      <th>z</th>\n",
       "      <th>ra</th>\n",
       "      <th>dec</th>\n",
       "      <th>dered_u</th>\n",
       "      <th>dered_g</th>\n",
       "      <th>dered_r</th>\n",
       "      <th>dered_i</th>\n",
       "      <th>dered_z</th>\n",
       "      <th>class</th>\n",
       "    </tr>\n",
       "  </thead>\n",
       "  <tbody>\n",
       "    <tr>\n",
       "      <th>0</th>\n",
       "      <td>0.152431</td>\n",
       "      <td>256.78228</td>\n",
       "      <td>63.422400</td>\n",
       "      <td>19.48079</td>\n",
       "      <td>18.27097</td>\n",
       "      <td>17.63202</td>\n",
       "      <td>17.23732</td>\n",
       "      <td>17.03432</td>\n",
       "      <td>GALAXY</td>\n",
       "    </tr>\n",
       "    <tr>\n",
       "      <th>1</th>\n",
       "      <td>0.152465</td>\n",
       "      <td>256.79456</td>\n",
       "      <td>63.489868</td>\n",
       "      <td>19.89245</td>\n",
       "      <td>17.86630</td>\n",
       "      <td>16.72920</td>\n",
       "      <td>16.25296</td>\n",
       "      <td>15.88060</td>\n",
       "      <td>GALAXY</td>\n",
       "    </tr>\n",
       "    <tr>\n",
       "      <th>2</th>\n",
       "      <td>0.000114</td>\n",
       "      <td>256.88131</td>\n",
       "      <td>63.564213</td>\n",
       "      <td>26.22519</td>\n",
       "      <td>24.70856</td>\n",
       "      <td>23.52728</td>\n",
       "      <td>20.66307</td>\n",
       "      <td>18.90411</td>\n",
       "      <td>STAR</td>\n",
       "    </tr>\n",
       "    <tr>\n",
       "      <th>3</th>\n",
       "      <td>0.079594</td>\n",
       "      <td>257.18246</td>\n",
       "      <td>63.499247</td>\n",
       "      <td>18.67426</td>\n",
       "      <td>17.59136</td>\n",
       "      <td>17.21099</td>\n",
       "      <td>16.90334</td>\n",
       "      <td>16.74061</td>\n",
       "      <td>GALAXY</td>\n",
       "    </tr>\n",
       "    <tr>\n",
       "      <th>4</th>\n",
       "      <td>0.189071</td>\n",
       "      <td>256.67234</td>\n",
       "      <td>63.461108</td>\n",
       "      <td>20.42850</td>\n",
       "      <td>18.37520</td>\n",
       "      <td>17.13770</td>\n",
       "      <td>16.64178</td>\n",
       "      <td>16.28146</td>\n",
       "      <td>GALAXY</td>\n",
       "    </tr>\n",
       "  </tbody>\n",
       "</table>\n",
       "</div>"
      ],
      "text/plain": [
       "          z         ra        dec   dered_u   dered_g   dered_r   dered_i  \\\n",
       "0  0.152431  256.78228  63.422400  19.48079  18.27097  17.63202  17.23732   \n",
       "1  0.152465  256.79456  63.489868  19.89245  17.86630  16.72920  16.25296   \n",
       "2  0.000114  256.88131  63.564213  26.22519  24.70856  23.52728  20.66307   \n",
       "3  0.079594  257.18246  63.499247  18.67426  17.59136  17.21099  16.90334   \n",
       "4  0.189071  256.67234  63.461108  20.42850  18.37520  17.13770  16.64178   \n",
       "\n",
       "    dered_z   class  \n",
       "0  17.03432  GALAXY  \n",
       "1  15.88060  GALAXY  \n",
       "2  18.90411    STAR  \n",
       "3  16.74061  GALAXY  \n",
       "4  16.28146  GALAXY  "
      ]
     },
     "execution_count": 6,
     "metadata": {},
     "output_type": "execute_result"
    }
   ],
   "source": [
    "query = (\n",
    "    \"\"\"\n",
    "    SELECT z,ra,dec,dered_u,dered_g,dered_r,dered_i,dered_z,class\n",
    "        FROM specPhoto\n",
    "    WHERE (ra BETWEEN 256.5 AND 259.7) AND \n",
    "          (dec BETWEEN 63.4 and 64.8)\n",
    "    \"\"\"\n",
    ")\n",
    "\n",
    "test = CasJobs.executeQuery(query,\"dr16\")\n",
    "print(test.shape)\n",
    "test.head(5)"
   ]
  },
  {
   "cell_type": "code",
   "execution_count": 7,
   "metadata": {},
   "outputs": [
    {
     "data": {
      "image/png": "[encoded data removed]",
      "text/plain": [
       "<Figure size 1080x360 with 2 Axes>"
      ]
     },
     "metadata": {},
     "output_type": "display_data"
    }
   ],
   "source": [
    "fig,ax = plt.subplots(1,2,figsize=(15,5))\n",
    "\n",
    "sns.scatterplot(data=test,\n",
    "                x=\"ra\",y=\"dec\",\n",
    "                hue=\"class\",\n",
    "                ax=ax[0])\n",
    "sns.countplot(data=test,\n",
    "              x=\"class\",\n",
    "              ax=ax[1])\n",
    "plt.show()"
   ]
  },
  {
   "cell_type": "markdown",
   "metadata": {},
   "source": [
    "# Redshift distribution¶\n",
    "If you just look out into space along a \"square code\" of 1.4 degrees on a side, what do you expect to find for the distribution of number of objects as a function of redshift?\n",
    "Let's check to see if the redshift distribution of objects in our search matches this expectation. We'll use plt.hist."
   ]
  },
  {
   "cell_type": "code",
   "execution_count": 8,
   "metadata": {},
   "outputs": [
    {
     "data": {
      "image/png": "[encoded data removed]",
      "text/plain": [
       "<Figure size 576x432 with 1 Axes>"
      ]
     },
     "metadata": {},
     "output_type": "display_data"
    }
   ],
   "source": [
    "# first make some bins that encompass the range\n",
    "bins = np.linspace(test['z'].min(),test['z'].max(),318,endpoint=True)\n",
    "\n",
    "fig,ax = plt.subplots(figsize=(8,6))\n",
    "sns.histplot(data=test,\n",
    "             x=\"z\",\n",
    "             bins=bins,\n",
    "             stat=\"density\",\n",
    "             element=\"step\")\n",
    "ax.set(xlim=(0,0.25))\n",
    "plt.show()"
   ]
  },
  {
   "cell_type": "markdown",
   "metadata": {},
   "source": [
    "# Cluster of Galaxies\n",
    "It turns out that our line of sight included a cluster of galaxies called Abell 2255.\n",
    "\n",
    "Wikipedia definition:\n",
    "    A galaxy cluster, or cluster of galaxies, is a structure that consists of anywhere from hundreds to thousands of  galaxies that are bound together by gravity with typical masses ranging from 1014–1015 solar masses. They are the largest known gravitationally bound structures in the universe and were believed to be the largest known structures in the universe until the 1980s, when superclusters were discovered.\n",
    "    \n",
    "The bottom line is that even though the Universe started out extremely smooth (e.g., fluctuations in the Cosmic Microwave Background temperature are one part in 14,000), it became clumpier and clumpier as it evolved. The most obvious evidence for the clumpiness are galaxies themselves, but those galaxies are frequently organized in groups or clusters of galaxies. To seen an example of this: https://ned.ipac.caltech.edu/level5/March12/Coil/Figures/figure3.jpg\n",
    "We will spend some time at the end of the course discussing how this structure came about.\n",
    "It is important to note that this procedure is only showing the galaxies from which spectra were obtained. Abell 2255 is a rich cluster of galaxies, which means that there are 1000s of galaxies in the cluster. SDSS does not obtain spectra of all of them because there is a limit to how closely the fibers can be packed. However, a sufficient sample is obtained to get an idea of the properties of the cluster.\n",
    "It turns out that a plot of the RA and DEC of our selection reveals the cluster of galaxies as a central concentration."
   ]
  },
  {
   "cell_type": "code",
   "execution_count": 9,
   "metadata": {},
   "outputs": [
    {
     "data": {
      "image/png": "[encoded data removed]",
      "text/plain": [
       "<Figure size 576x432 with 1 Axes>"
      ]
     },
     "metadata": {},
     "output_type": "display_data"
    }
   ],
   "source": [
    "fig,ax = plt.subplots(figsize=(8,6))\n",
    "\n",
    "sns.scatterplot(data=test,\n",
    "                x=\"ra\",y=\"dec\",\n",
    "                hue=\"class\")\n",
    "plt.show()"
   ]
  },
  {
   "cell_type": "markdown",
   "metadata": {},
   "source": [
    "As the table and the histogram above shows, there are a lot of objects in our sample that aren't associated with the structure, and the structure might show up better if we were to isolate only the cluster galaxies. What we can do is redo our query, but this time restrict the redshift range and the object type.\n",
    "What should the redshift range be? We can find out by making a plot only around the cluster peak."
   ]
  },
  {
   "cell_type": "code",
   "execution_count": 10,
   "metadata": {},
   "outputs": [
    {
     "data": {
      "image/png": "[encoded data removed]",
      "text/plain": [
       "<Figure size 576x432 with 1 Axes>"
      ]
     },
     "metadata": {},
     "output_type": "display_data"
    }
   ],
   "source": [
    "# first make some bins that encompass the range\n",
    "bins = np.linspace(0.06,0.1,200,endpoint=True)\n",
    "\n",
    "fig,ax = plt.subplots(figsize=(8,6))\n",
    "sns.histplot(data=test,\n",
    "             x=\"z\",\n",
    "             bins=bins,\n",
    "             stat=\"density\",\n",
    "             element=\"step\")\n",
    "plt.show()"
   ]
  },
  {
   "cell_type": "markdown",
   "metadata": {},
   "source": [
    "# Machine Learning: Neural Network\n",
    "\n",
    "The query returned a data set of shape (475,9). There are 8 features and 1 classifier. \n",
    "\n",
    "    X = z,ra,dec,dered_u,dered_g,dered_r,dered_i,dered_z\n",
    "    y = class\n",
    "\n",
    "where class = galaxy, QSO, star.\n",
    "\n",
    "A neural network can be trained to determine the classification based on the given features. \n",
    "\n",
    "First, the classes need to be converted to integers. "
   ]
  },
  {
   "cell_type": "code",
   "execution_count": 11,
   "metadata": {},
   "outputs": [],
   "source": [
    "# relevant machine learning modules\n",
    "from sklearn.feature_selection import RFE\n",
    "from sklearn.neural_network import MLPClassifier\n",
    "from sklearn.preprocessing import StandardScaler,LabelEncoder\n",
    "from sklearn.model_selection import train_test_split\n",
    "import sklearn.metrics as metrics\n",
    "from sklearn.cluster import KMeans\n",
    "import numpy as np\n",
    "import scipy as sp\n",
    "import pandas as pd\n",
    "from sklearn import (linear_model,pipeline,model_selection,preprocessing,\n",
    "                    tree,ensemble,svm,decomposition,multioutput,metrics,\n",
    "                    feature_selection,neural_network,cluster)\n",
    "import matplotlib.pyplot as plt\n",
    "import seaborn as sns"
   ]
  },
  {
   "cell_type": "code",
   "execution_count": 12,
   "metadata": {},
   "outputs": [],
   "source": [
    "# Extract classes from data frame and convert them to integers.\n",
    "# add new column of classifier indicies to dummy  dataframe df\n",
    "\"\"\"\n",
    "# this way throws an error setcopywarning\n",
    "classes = test['class'].unique()\n",
    "df = test.copy(deep=True)\n",
    "df['class_idx'] = df['class']\n",
    "for (i,c) in enumerate(classes):\n",
    "    l = (df['class'] == c)\n",
    "    df['class_idx'][l] = i\n",
    "\n",
    "# This way works\n",
    "df = test.copy(deep=True)\n",
    "df[['class_idx']]  = df[['class']].apply(lambda x: pd.factorize(x)[0] )\n",
    "\"\"\"\n",
    "# using sklearn to do the conversion \n",
    "df = test.copy(deep=True)\n",
    "le = preprocessing.LabelEncoder()\n",
    "df['class_idx'] = le.fit_transform(df['class'])"
   ]
  },
  {
   "cell_type": "code",
   "execution_count": 13,
   "metadata": {},
   "outputs": [
    {
     "data": {
      "text/html": [
       "<div>\n",
       "<style scoped>\n",
       "    .dataframe tbody tr th:only-of-type {\n",
       "        vertical-align: middle;\n",
       "    }\n",
       "\n",
       "    .dataframe tbody tr th {\n",
       "        vertical-align: top;\n",
       "    }\n",
       "\n",
       "    .dataframe thead th {\n",
       "        text-align: right;\n",
       "    }\n",
       "</style>\n",
       "<table border=\"1\" class=\"dataframe\">\n",
       "  <thead>\n",
       "    <tr style=\"text-align: right;\">\n",
       "      <th></th>\n",
       "      <th>z</th>\n",
       "      <th>ra</th>\n",
       "      <th>dec</th>\n",
       "      <th>dered_u</th>\n",
       "      <th>dered_g</th>\n",
       "      <th>dered_r</th>\n",
       "      <th>dered_i</th>\n",
       "      <th>dered_z</th>\n",
       "      <th>class</th>\n",
       "      <th>class_idx</th>\n",
       "    </tr>\n",
       "  </thead>\n",
       "  <tbody>\n",
       "    <tr>\n",
       "      <th>0</th>\n",
       "      <td>0.152431</td>\n",
       "      <td>256.78228</td>\n",
       "      <td>63.422400</td>\n",
       "      <td>19.48079</td>\n",
       "      <td>18.27097</td>\n",
       "      <td>17.63202</td>\n",
       "      <td>17.23732</td>\n",
       "      <td>17.03432</td>\n",
       "      <td>GALAXY</td>\n",
       "      <td>0</td>\n",
       "    </tr>\n",
       "    <tr>\n",
       "      <th>1</th>\n",
       "      <td>0.152465</td>\n",
       "      <td>256.79456</td>\n",
       "      <td>63.489868</td>\n",
       "      <td>19.89245</td>\n",
       "      <td>17.86630</td>\n",
       "      <td>16.72920</td>\n",
       "      <td>16.25296</td>\n",
       "      <td>15.88060</td>\n",
       "      <td>GALAXY</td>\n",
       "      <td>0</td>\n",
       "    </tr>\n",
       "    <tr>\n",
       "      <th>2</th>\n",
       "      <td>0.000114</td>\n",
       "      <td>256.88131</td>\n",
       "      <td>63.564213</td>\n",
       "      <td>26.22519</td>\n",
       "      <td>24.70856</td>\n",
       "      <td>23.52728</td>\n",
       "      <td>20.66307</td>\n",
       "      <td>18.90411</td>\n",
       "      <td>STAR</td>\n",
       "      <td>2</td>\n",
       "    </tr>\n",
       "    <tr>\n",
       "      <th>3</th>\n",
       "      <td>0.079594</td>\n",
       "      <td>257.18246</td>\n",
       "      <td>63.499247</td>\n",
       "      <td>18.67426</td>\n",
       "      <td>17.59136</td>\n",
       "      <td>17.21099</td>\n",
       "      <td>16.90334</td>\n",
       "      <td>16.74061</td>\n",
       "      <td>GALAXY</td>\n",
       "      <td>0</td>\n",
       "    </tr>\n",
       "    <tr>\n",
       "      <th>4</th>\n",
       "      <td>0.189071</td>\n",
       "      <td>256.67234</td>\n",
       "      <td>63.461108</td>\n",
       "      <td>20.42850</td>\n",
       "      <td>18.37520</td>\n",
       "      <td>17.13770</td>\n",
       "      <td>16.64178</td>\n",
       "      <td>16.28146</td>\n",
       "      <td>GALAXY</td>\n",
       "      <td>0</td>\n",
       "    </tr>\n",
       "    <tr>\n",
       "      <th>5</th>\n",
       "      <td>-0.000110</td>\n",
       "      <td>257.32530</td>\n",
       "      <td>63.514602</td>\n",
       "      <td>21.71610</td>\n",
       "      <td>19.21252</td>\n",
       "      <td>17.72768</td>\n",
       "      <td>16.47120</td>\n",
       "      <td>15.86008</td>\n",
       "      <td>STAR</td>\n",
       "      <td>2</td>\n",
       "    </tr>\n",
       "    <tr>\n",
       "      <th>6</th>\n",
       "      <td>0.077282</td>\n",
       "      <td>257.95663</td>\n",
       "      <td>64.168201</td>\n",
       "      <td>20.22729</td>\n",
       "      <td>18.15098</td>\n",
       "      <td>17.31217</td>\n",
       "      <td>16.96861</td>\n",
       "      <td>16.66557</td>\n",
       "      <td>GALAXY</td>\n",
       "      <td>0</td>\n",
       "    </tr>\n",
       "    <tr>\n",
       "      <th>7</th>\n",
       "      <td>0.000028</td>\n",
       "      <td>257.87602</td>\n",
       "      <td>63.732736</td>\n",
       "      <td>22.23267</td>\n",
       "      <td>20.27876</td>\n",
       "      <td>18.45944</td>\n",
       "      <td>17.65179</td>\n",
       "      <td>17.31557</td>\n",
       "      <td>STAR</td>\n",
       "      <td>2</td>\n",
       "    </tr>\n",
       "    <tr>\n",
       "      <th>8</th>\n",
       "      <td>0.095725</td>\n",
       "      <td>257.75531</td>\n",
       "      <td>64.018105</td>\n",
       "      <td>20.09688</td>\n",
       "      <td>18.26614</td>\n",
       "      <td>17.39881</td>\n",
       "      <td>17.00061</td>\n",
       "      <td>16.69912</td>\n",
       "      <td>GALAXY</td>\n",
       "      <td>0</td>\n",
       "    </tr>\n",
       "    <tr>\n",
       "      <th>9</th>\n",
       "      <td>0.073888</td>\n",
       "      <td>257.98320</td>\n",
       "      <td>63.958064</td>\n",
       "      <td>18.99695</td>\n",
       "      <td>17.27278</td>\n",
       "      <td>16.58268</td>\n",
       "      <td>16.24758</td>\n",
       "      <td>15.99286</td>\n",
       "      <td>GALAXY</td>\n",
       "      <td>0</td>\n",
       "    </tr>\n",
       "    <tr>\n",
       "      <th>10</th>\n",
       "      <td>0.566954</td>\n",
       "      <td>256.89713</td>\n",
       "      <td>64.611457</td>\n",
       "      <td>23.09043</td>\n",
       "      <td>21.34886</td>\n",
       "      <td>20.32504</td>\n",
       "      <td>19.95196</td>\n",
       "      <td>19.73108</td>\n",
       "      <td>GALAXY</td>\n",
       "      <td>0</td>\n",
       "    </tr>\n",
       "    <tr>\n",
       "      <th>11</th>\n",
       "      <td>0.089336</td>\n",
       "      <td>257.25863</td>\n",
       "      <td>64.291127</td>\n",
       "      <td>19.50846</td>\n",
       "      <td>18.97201</td>\n",
       "      <td>18.66069</td>\n",
       "      <td>18.20910</td>\n",
       "      <td>18.21478</td>\n",
       "      <td>QSO</td>\n",
       "      <td>1</td>\n",
       "    </tr>\n",
       "    <tr>\n",
       "      <th>12</th>\n",
       "      <td>0.315602</td>\n",
       "      <td>257.25369</td>\n",
       "      <td>64.227579</td>\n",
       "      <td>22.09036</td>\n",
       "      <td>20.20263</td>\n",
       "      <td>18.52023</td>\n",
       "      <td>17.91547</td>\n",
       "      <td>17.49921</td>\n",
       "      <td>GALAXY</td>\n",
       "      <td>0</td>\n",
       "    </tr>\n",
       "    <tr>\n",
       "      <th>13</th>\n",
       "      <td>-0.000376</td>\n",
       "      <td>257.11849</td>\n",
       "      <td>64.759891</td>\n",
       "      <td>20.41563</td>\n",
       "      <td>18.30120</td>\n",
       "      <td>16.97012</td>\n",
       "      <td>16.25372</td>\n",
       "      <td>15.87113</td>\n",
       "      <td>STAR</td>\n",
       "      <td>2</td>\n",
       "    </tr>\n",
       "    <tr>\n",
       "      <th>14</th>\n",
       "      <td>3.162004</td>\n",
       "      <td>256.77032</td>\n",
       "      <td>64.717588</td>\n",
       "      <td>21.54111</td>\n",
       "      <td>18.44362</td>\n",
       "      <td>18.38735</td>\n",
       "      <td>18.37232</td>\n",
       "      <td>18.32391</td>\n",
       "      <td>QSO</td>\n",
       "      <td>1</td>\n",
       "    </tr>\n",
       "    <tr>\n",
       "      <th>15</th>\n",
       "      <td>0.221813</td>\n",
       "      <td>257.04422</td>\n",
       "      <td>64.470436</td>\n",
       "      <td>20.92315</td>\n",
       "      <td>19.02641</td>\n",
       "      <td>17.64411</td>\n",
       "      <td>17.13868</td>\n",
       "      <td>16.76950</td>\n",
       "      <td>GALAXY</td>\n",
       "      <td>0</td>\n",
       "    </tr>\n",
       "  </tbody>\n",
       "</table>\n",
       "</div>"
      ],
      "text/plain": [
       "           z         ra        dec   dered_u   dered_g   dered_r   dered_i  \\\n",
       "0   0.152431  256.78228  63.422400  19.48079  18.27097  17.63202  17.23732   \n",
       "1   0.152465  256.79456  63.489868  19.89245  17.86630  16.72920  16.25296   \n",
       "2   0.000114  256.88131  63.564213  26.22519  24.70856  23.52728  20.66307   \n",
       "3   0.079594  257.18246  63.499247  18.67426  17.59136  17.21099  16.90334   \n",
       "4   0.189071  256.67234  63.461108  20.42850  18.37520  17.13770  16.64178   \n",
       "5  -0.000110  257.32530  63.514602  21.71610  19.21252  17.72768  16.47120   \n",
       "6   0.077282  257.95663  64.168201  20.22729  18.15098  17.31217  16.96861   \n",
       "7   0.000028  257.87602  63.732736  22.23267  20.27876  18.45944  17.65179   \n",
       "8   0.095725  257.75531  64.018105  20.09688  18.26614  17.39881  17.00061   \n",
       "9   0.073888  257.98320  63.958064  18.99695  17.27278  16.58268  16.24758   \n",
       "10  0.566954  256.89713  64.611457  23.09043  21.34886  20.32504  19.95196   \n",
       "11  0.089336  257.25863  64.291127  19.50846  18.97201  18.66069  18.20910   \n",
       "12  0.315602  257.25369  64.227579  22.09036  20.20263  18.52023  17.91547   \n",
       "13 -0.000376  257.11849  64.759891  20.41563  18.30120  16.97012  16.25372   \n",
       "14  3.162004  256.77032  64.717588  21.54111  18.44362  18.38735  18.37232   \n",
       "15  0.221813  257.04422  64.470436  20.92315  19.02641  17.64411  17.13868   \n",
       "\n",
       "     dered_z   class  class_idx  \n",
       "0   17.03432  GALAXY          0  \n",
       "1   15.88060  GALAXY          0  \n",
       "2   18.90411    STAR          2  \n",
       "3   16.74061  GALAXY          0  \n",
       "4   16.28146  GALAXY          0  \n",
       "5   15.86008    STAR          2  \n",
       "6   16.66557  GALAXY          0  \n",
       "7   17.31557    STAR          2  \n",
       "8   16.69912  GALAXY          0  \n",
       "9   15.99286  GALAXY          0  \n",
       "10  19.73108  GALAXY          0  \n",
       "11  18.21478     QSO          1  \n",
       "12  17.49921  GALAXY          0  \n",
       "13  15.87113    STAR          2  \n",
       "14  18.32391     QSO          1  \n",
       "15  16.76950  GALAXY          0  "
      ]
     },
     "execution_count": 13,
     "metadata": {},
     "output_type": "execute_result"
    }
   ],
   "source": [
    "df.head(16)"
   ]
  },
  {
   "cell_type": "code",
   "execution_count": 14,
   "metadata": {},
   "outputs": [],
   "source": [
    "# separate data frame into features and classifiers\n",
    "X = df.drop(columns=['class','class_idx']).values\n",
    "y = df['class_idx'].values"
   ]
  },
  {
   "cell_type": "code",
   "execution_count": 28,
   "metadata": {},
   "outputs": [
    {
     "name": "stdout",
     "output_type": "stream",
     "text": [
      "-> RMSE of training set = 0.0749532 with score = 0.991573\n",
      "-> RMSE = 0.140028 of test set with score = 0.970711\n",
      "\n",
      "best parameters from cross validsation:  {'nn__alpha': 0.0001, 'nn__hidden_layer_sizes': [100, 100]}\n",
      "best score from cross validation:  0.9352470615656111\n",
      "\n",
      "F1-scores:  [0.98492462 0.85714286 0.90909091]\n",
      "F1-mean:  0.9170527964497813\n"
     ]
    },
    {
     "name": "stderr",
     "output_type": "stream",
     "text": [
      "/home/idies/miniconda3/envs/py38/lib/python3.8/site-packages/sklearn/neural_network/_multilayer_perceptron.py:582: ConvergenceWarning: Stochastic Optimizer: Maximum iterations (200) reached and the optimization hasn't converged yet.\n",
      "  warnings.warn(\n"
     ]
    }
   ],
   "source": [
    "# split test set\n",
    "Xtrain, Xtest, ytrain,ytest = model_selection.train_test_split(X,y)\n",
    "# grid search to find optimal paramters of neural network \n",
    "parameters = {'nn__alpha':[0.0001,0.001,0.01],\n",
    "              'nn__hidden_layer_sizes':[[10],[10,10],[10,10,10],\n",
    "                                        [25],[25,25],[25,25,25],\n",
    "                                        [100],[100,100],[100,100,100]]\n",
    "}\n",
    "# build pipeline with feature scaling and Ridge linear regression\n",
    "pipe = pipeline.Pipeline([\n",
    "                          ('std',preprocessing.StandardScaler()),\n",
    "                          ('nn',neural_network.MLPClassifier())\n",
    "])\n",
    "f1_scorer = metrics.make_scorer(metrics.f1_score,average='micro')\n",
    "model = model_selection.GridSearchCV(pipe,\n",
    "                                     parameters,\n",
    "                                     refit=True,\n",
    "                                     return_train_score=True,\n",
    "                                     #scoring='f1_micro',\n",
    "                                     scoring=f1_scorer,\n",
    "                                     n_jobs=-1)\n",
    "model.fit(Xtrain,ytrain)\n",
    "# prediction training set and test set \n",
    "ptrain = model.predict(Xtrain)\n",
    "ptest = model.predict(Xtest)\n",
    "\n",
    "err_train = metrics.mean_squared_error(ytrain,ptrain)\n",
    "print(\"-> RMSE of training set = %g with score = %g\"%(err_train**0.5,model.score(Xtrain,ytrain)))\n",
    "\n",
    "err_test = metrics.mean_squared_error(ytest,ptest)\n",
    "print(\"-> RMSE = %g of test set with score = %g\"%(err_test**0.5,model.score(Xtest,ytest)))\n",
    "\n",
    "print('\\nbest parameters from cross validsation: ',model.best_params_)\n",
    "print('best score from cross validation: ',model.best_score_)\n",
    "\n",
    "ptest = model.predict(Xtest)\n",
    "f1 = metrics.f1_score(ytest,ptest,average=None)\n",
    "print(\"\\nF1-scores: \",f1)\n",
    "print(\"F1-mean: \",np.mean(f1))"
   ]
  },
  {
   "cell_type": "markdown",
   "metadata": {},
   "source": [
    "# Machine Learning: Support Vector Machine"
   ]
  },
  {
   "cell_type": "code",
   "execution_count": 30,
   "metadata": {},
   "outputs": [],
   "source": [
    "# separate data frame into features and classifiers\n",
    "X = df.drop(columns=['class','class_idx']).values\n",
    "y = df['class_idx'].values"
   ]
  },
  {
   "cell_type": "code",
   "execution_count": 31,
   "metadata": {},
   "outputs": [
    {
     "name": "stdout",
     "output_type": "stream",
     "text": [
      "-> RMSE of training set = 0.254179 with score = 0.977528\n",
      "-> RMSE = 0.27501 of test set with score = 0.97479\n",
      "\n",
      "best parameters from cross validsation:  {'svm__C': 1000.0, 'svm__degree': 1, 'svm__gamma': 'auto', 'svm__kernel': 'poly'}\n",
      "best score from cross validation:  0.9719092331768389\n",
      "\n",
      "F1-scores:  [0.98324022 0.92307692 0.95652174]\n",
      "F1-mean:  0.954279628557015\n"
     ]
    }
   ],
   "source": [
    "# split test set\n",
    "Xtrain, Xtest, ytrain,ytest = model_selection.train_test_split(X,y)\n",
    "parameters = {'svm__C':np.logspace(0,3,10,endpoint=True),\n",
    "              'svm__degree':range(1,3),\n",
    "              'svm__gamma':['auto','scale'],\n",
    "              'svm__kernel':['poly','rbf','sigmoid']}\n",
    "# build pipeline with feature scaling and Ridge linear regression\n",
    "pipe = pipeline.Pipeline([\n",
    "                          ('std',preprocessing.StandardScaler()),\n",
    "                          ('svm',svm.SVC())\n",
    "])\n",
    "model = model_selection.GridSearchCV(pipe,\n",
    "                                     parameters,\n",
    "                                     refit=True,\n",
    "                                     return_train_score=True,\n",
    "                                     scoring='f1_micro',\n",
    "                                     n_jobs=-1)\n",
    "model.fit(Xtrain,ytrain)\n",
    "# prediction training set and test set \n",
    "ptrain = model.predict(Xtrain)\n",
    "ptest = model.predict(Xtest)\n",
    "\n",
    "err_train = metrics.mean_squared_error(ytrain,ptrain)\n",
    "print(\"-> RMSE of training set = %g with score = %g\"%(err_train**0.5,model.score(Xtrain,ytrain)))\n",
    "\n",
    "err_test = metrics.mean_squared_error(ytest,ptest)\n",
    "print(\"-> RMSE = %g of test set with score = %g\"%(err_test**0.5,model.score(Xtest,ytest)))\n",
    "\n",
    "print('\\nbest parameters from cross validsation: ',model.best_params_)\n",
    "print('best score from cross validation: ',model.best_score_)\n",
    "\n",
    "ptest = model.predict(Xtest)\n",
    "f1 = metrics.f1_score(ytest,ptest,labels=None,average=None)\n",
    "print(\"\\nF1-scores: \",f1)\n",
    "print(\"F1-mean: \",np.mean(f1))"
   ]
  },
  {
   "cell_type": "markdown",
   "metadata": {},
   "source": [
    "# TensorFlow/Keras"
   ]
  },
  {
   "cell_type": "code",
   "execution_count": 34,
   "metadata": {},
   "outputs": [],
   "source": [
    "import tensorflow as tf\n",
    "from tensorflow import keras"
   ]
  },
  {
   "cell_type": "code",
   "execution_count": 35,
   "metadata": {},
   "outputs": [
    {
     "data": {
      "text/html": [
       "<div>\n",
       "<style scoped>\n",
       "    .dataframe tbody tr th:only-of-type {\n",
       "        vertical-align: middle;\n",
       "    }\n",
       "\n",
       "    .dataframe tbody tr th {\n",
       "        vertical-align: top;\n",
       "    }\n",
       "\n",
       "    .dataframe thead th {\n",
       "        text-align: right;\n",
       "    }\n",
       "</style>\n",
       "<table border=\"1\" class=\"dataframe\">\n",
       "  <thead>\n",
       "    <tr style=\"text-align: right;\">\n",
       "      <th></th>\n",
       "      <th>output_GALAXY</th>\n",
       "      <th>output_QSO</th>\n",
       "      <th>output_STAR</th>\n",
       "    </tr>\n",
       "  </thead>\n",
       "  <tbody>\n",
       "    <tr>\n",
       "      <th>0</th>\n",
       "      <td>1</td>\n",
       "      <td>0</td>\n",
       "      <td>0</td>\n",
       "    </tr>\n",
       "    <tr>\n",
       "      <th>1</th>\n",
       "      <td>1</td>\n",
       "      <td>0</td>\n",
       "      <td>0</td>\n",
       "    </tr>\n",
       "    <tr>\n",
       "      <th>2</th>\n",
       "      <td>0</td>\n",
       "      <td>0</td>\n",
       "      <td>1</td>\n",
       "    </tr>\n",
       "    <tr>\n",
       "      <th>3</th>\n",
       "      <td>1</td>\n",
       "      <td>0</td>\n",
       "      <td>0</td>\n",
       "    </tr>\n",
       "    <tr>\n",
       "      <th>4</th>\n",
       "      <td>1</td>\n",
       "      <td>0</td>\n",
       "      <td>0</td>\n",
       "    </tr>\n",
       "  </tbody>\n",
       "</table>\n",
       "</div>"
      ],
      "text/plain": [
       "   output_GALAXY  output_QSO  output_STAR\n",
       "0              1           0            0\n",
       "1              1           0            0\n",
       "2              0           0            1\n",
       "3              1           0            0\n",
       "4              1           0            0"
      ]
     },
     "execution_count": 35,
     "metadata": {},
     "output_type": "execute_result"
    }
   ],
   "source": [
    "# using dummies to create output instead of 0,1,2 as the classifiers\n",
    "X = test.drop(columns=['class']).values\n",
    "y = pd.get_dummies(test[['class']],prefix='output')\n",
    "y.head()\n"
   ]
  },
  {
   "cell_type": "code",
   "execution_count": 36,
   "metadata": {},
   "outputs": [
    {
     "data": {
      "text/plain": [
       "((356, 8), (356, 3))"
      ]
     },
     "execution_count": 36,
     "metadata": {},
     "output_type": "execute_result"
    }
   ],
   "source": [
    "Xtrain, Xtest, ytrain,ytest = model_selection.train_test_split(X,y)\n",
    "Xtrain.shape,ytrain.shape"
   ]
  },
  {
   "cell_type": "code",
   "execution_count": 40,
   "metadata": {},
   "outputs": [
    {
     "name": "stdout",
     "output_type": "stream",
     "text": [
      "Model: \"functional_5\"\n",
      "_________________________________________________________________\n",
      "Layer (type)                 Output Shape              Param #   \n",
      "=================================================================\n",
      "input_3 (InputLayer)         [(None, 8)]               0         \n",
      "_________________________________________________________________\n",
      "dense_8 (Dense)              (None, 25)                225       \n",
      "_________________________________________________________________\n",
      "dense_9 (Dense)              (None, 25)                650       \n",
      "_________________________________________________________________\n",
      "dense_10 (Dense)             (None, 25)                650       \n",
      "_________________________________________________________________\n",
      "dense_11 (Dense)             (None, 3)                 78        \n",
      "=================================================================\n",
      "Total params: 1,603\n",
      "Trainable params: 1,603\n",
      "Non-trainable params: 0\n",
      "_________________________________________________________________\n"
     ]
    }
   ],
   "source": [
    "in_layer = keras.layers.Input(shape=(Xtrain.shape[1],))\n",
    "d1 = keras.layers.Dense(25,activation='sigmoid')(in_layer)\n",
    "d2 = keras.layers.Dense(25,activation='sigmoid')(d1)\n",
    "d3 = keras.layers.Dense(25,activation='sigmoid')(d2)\n",
    "out_layer = keras.layers.Dense(ytrain.shape[1],activation='softmax')(d3)\n",
    "\n",
    "model = keras.models.Model(inputs=in_layer,outputs=out_layer)\n",
    "\n",
    "std = preprocessing.StandardScaler().fit(Xtrain)\n",
    "model.compile(optimizer='adam',\n",
    "              loss='categorical_crossentropy',\n",
    "              metrics=[keras.metrics.Precision(),keras.metrics.Recall()])\n",
    "history = model.fit(std.transform(Xtrain),ytrain,\n",
    "                    batch_size=10,\n",
    "                    epochs=200,\n",
    "                    validation_split=0.2,\n",
    "                    verbose=0,\n",
    "                    callbacks=keras.callbacks.History())\n",
    "model.summary()"
   ]
  },
  {
   "cell_type": "code",
   "execution_count": 41,
   "metadata": {
    "scrolled": true
   },
   "outputs": [
    {
     "data": {
      "text/plain": [
       "<AxesSubplot:xlabel='Epoch', ylabel='Loss'>"
      ]
     },
     "execution_count": 41,
     "metadata": {},
     "output_type": "execute_result"
    },
    {
     "data": {
      "image/png": "[encoded data removed]",
      "text/plain": [
       "<Figure size 432x288 with 1 Axes>"
      ]
     },
     "metadata": {},
     "output_type": "display_data"
    }
   ],
   "source": [
    "hist = pd.DataFrame(history.history)\n",
    "hist.plot(y=\"loss\",\n",
    "          xlabel='Epoch',\n",
    "          ylabel='Loss',\n",
    "          legend=False)"
   ]
  },
  {
   "cell_type": "code",
   "execution_count": 42,
   "metadata": {},
   "outputs": [
    {
     "name": "stdout",
     "output_type": "stream",
     "text": [
      "4/4 [==============================] - 0s 8ms/step - loss: 0.3064 - precision_2: 0.9496 - recall_2: 0.9496\n",
      "f1 = 0.95\n"
     ]
    }
   ],
   "source": [
    "# return loss and metric\n",
    "scores = model.evaluate(std.transform(Xtest),ytest)\n",
    "f1 = 2*scores[1]*scores[-1]/(scores[1] + scores[-1])\n",
    "print(\"f1 = %.2f\"%f1)"
   ]
  }
 ],
 "metadata": {
  "kernelspec": {
   "display_name": "Python 3.8 (py38)",
   "language": "python",
   "name": "py38"
  },
  "language_info": {
   "codemirror_mode": {
    "name": "ipython",
    "version": 3
   },
   "file_extension": ".py",
   "mimetype": "text/x-python",
   "name": "python",
   "nbconvert_exporter": "python",
   "pygments_lexer": "ipython3",
   "version": "3.8.5"
  }
 },
 "nbformat": 4,
 "nbformat_minor": 4
}
