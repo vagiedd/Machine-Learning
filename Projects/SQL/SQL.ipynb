{
 "cells": [
  {
   "cell_type": "code",
   "execution_count": 1,
   "metadata": {},
   "outputs": [],
   "source": [
    "%matplotlib inline\n",
    "import numpy as np\n",
    "import scipy as sp\n",
    "import matplotlib.pyplot as plt\n",
    "import seaborn as sns\n",
    "import pandas as pd\n",
    "sns.set(palette=\"dark\")"
   ]
  },
  {
   "cell_type": "code",
   "execution_count": 2,
   "metadata": {},
   "outputs": [],
   "source": [
    "# Import Python libraries to work with SciServer (see http://www.sciserver.org/docs/sciscript-python/)\n",
    "\n",
    "import SciServer.CasJobs as CasJobs     # query with CasJobs, the primary database for the SDSS\n",
    "import SciServer.SkyServer as SkyServer # show individual objects through SkyServer\n",
    "import SciServer.SciDrive               # read/write to/from SciDrive, cloud-based storage for your work\n",
    "import pandas                           # package for structuring and visualizing data"
   ]
  },
  {
   "cell_type": "markdown",
   "metadata": {},
   "source": [
    "# About SQL\n",
    "Before you begin searching SkyServer, you should get a quick introduction what it means to search for data. SkyServer's information on all sky objects - stars, galaxies, and others - is stored in a database, a storehouse for data. A request to a database to return some information is called a query. When you ask a database for information, you must write your query in some computer language that the database can understand. SkyServer, like many other databases, uses Structured Query Language (SQL). When you write a query with SQL, the database searches for all records that meet your search criteria; in the case of SkyServer, each record is the information on a single observation of a single object in the sky.\n",
    "But you have to be careful when you write a query: since the database contains hundreds of pieces of information for each of millions of objects, a poorly written query could return Gigabytes of information that won't help you at all. The best possible query will return all the information that you need, and no information that you don't need. Writing queries is an art - before you start writing, you need to think carefully about what information you need.\n",
    "\n",
    "# The Database Structure\n",
    "To know what information you need, you need to know exactly what information the database contains. The SkyServer database is divided into a series of tables. Each table contains data of a different type. For example, all data related to an object's spectrum are stored in a table called specObjAll. All data related to an object's image properties are stored in a table called photoObjAll. SkyServer contains many tables, although most of the commonly accessed data are stored in just three or four of them.\n",
    "Each table contains a series of data columns. A column contains only one type of data - for example, magnitude or sky position. Each record consists of a series of columns, although some columns may be empty for some records. Some tables contain only two or three columns; some contain hundreds! Knowing exactly which table and which column contains the data you want can be a challenge.\n",
    "\n",
    "# The Schema Browser\n",
    "A tool called the Schema Browser (http://cas.sdss.org/dr16/en/help/browser/browser.aspx) allows you to study all the tables and data columns, to find where the data you want are located. The Schema Browser can be intimidating, but it is easy to use. In the left-hand column, you can either browse through various tables to find a specific column, or you can search for keywords in all the column descriptions.\n",
    "To browse through the tables, click on \"Tables\" in the left-hand column. (Note: some tables, like \"specObj,\" are under \"Views\" instead...more on that later!) A list of all tables will appear under the Tables link. Click on the name of the one that you are interested in, and a list of that table's columns will appear on the right.\n",
    "To search through all the tables to find a keyword, enter the keyword in the Search box and hit Go. A list of matching table columns and descriptions will appear on the right.\n",
    "There is a ton of information here. In practice, one would never need to look at more than a small fraction of it. Moreover, although you can look up stuff in the tables (such as photoObjAll and specObjAll) directly, in practice you can use their associated views, which contain only the best SDSS observation for each object.\n",
    "\n",
    "# Views you might use include:\n",
    "photoObj contains photometric (imaging) data for only the best observation of each sky object (http://cas.sdss.org/dr16/en/help/browser/browser.aspx#&&history=description+PhotoObj+V)\n",
    "star contains best SDSS observations for stars only (http://cas.sdss.org/dr16/en/help/browser/browser.aspx#&&history=description+Star+V)\n",
    "galaxy contains best SDSS observations for galaxies only (http://cas.sdss.org/dr16/en/help/browser/browser.aspx#&&history=description+Galaxy+V)\n",
    "specObj contains spectroscopic data for only the best observation of each sky object observed by the SDSS spectrograph (http://cas.sdss.org/dr16/en/help/browser/browser.aspx#&&history=description+SpecObj+V)\n",
    "\n",
    "# SpecPhoto\n",
    "For this portion of this class, it looks like we can get away with using only one view: SpecPhoto. We will therefore avoid the slight complication of searching for information that is contained in several different tables. SpecPhoto is \"a view of joined Spectro and Photo objects that have the clean spectra.\" So it contains things that you can measure from spectra (redshifts) and things you can measure from the images (photometry). It also contains the object type.\n",
    "The schema browser webpage for SpecPhoto is here: http://skyserver.sdss.org/dr16/en/help/browser/browser.aspx#&&history=description+SpecPhoto+V\n",
    "\n",
    "# A Simple Query¶\n",
    "An SQL query consists of three pieces, or blocks: the select block, the from block and the where block.\n",
    "The select block tells the database which columns of data you want it to return. You must separate each column name with a comma. For example, if you wanted to find the celestial coordinates right ascension (ra) and declination (dec) of an object, the select block might read\n",
    "\n",
    "    select ra, dec\n",
    "\n",
    "The from block specifies which table (or tables) you want to search. If you wanted to retrieve information from the specObj table, the from block would read\n",
    "\n",
    "    from SpecPhoto\n",
    "\n",
    "The where block allows you to search for records with certain characteristics. Your list of characteristics must be separated by the word \"AND\". Suppose you wanted to limit your search to a patch of sky with ra between 140 and 141 degrees and dec between 20 and 21 degrees. To search only this patch of sky, your where block would read\n",
    "\n",
    "    where\n",
    "    ra BETWEEN 140 AND 141 AND\n",
    "    dec BETWEEN 20 AND 21\n",
    "\n",
    "The database will return only those records that have an ra between 140 and 141 and a dec between 20 and 21."
   ]
  },
  {
   "cell_type": "markdown",
   "metadata": {},
   "source": [
    "## Query 1\n",
    "Select all columns from the database but only keeping the top 3 rows to limit size of table. Then print out the column names in table."
   ]
  },
  {
   "cell_type": "code",
   "execution_count": 3,
   "metadata": {},
   "outputs": [
    {
     "name": "stdout",
     "output_type": "stream",
     "text": [
      "(3, 122)\n"
     ]
    },
    {
     "data": {
      "text/plain": [
       "['specObjID',\n",
       " 'mjd',\n",
       " 'plate',\n",
       " 'tile',\n",
       " 'fiberID',\n",
       " 'z',\n",
       " 'zErr',\n",
       " 'class',\n",
       " 'subClass',\n",
       " 'zWarning',\n",
       " 'ra',\n",
       " 'dec',\n",
       " 'cx',\n",
       " 'cy',\n",
       " 'cz',\n",
       " 'htmID',\n",
       " 'sciencePrimary',\n",
       " 'legacyPrimary',\n",
       " 'seguePrimary',\n",
       " 'segue1Primary',\n",
       " 'segue2Primary',\n",
       " 'bossPrimary',\n",
       " 'sdssPrimary',\n",
       " 'survey',\n",
       " 'programname',\n",
       " 'legacy_target1',\n",
       " 'legacy_target2',\n",
       " 'special_target1',\n",
       " 'special_target2',\n",
       " 'segue1_target1',\n",
       " 'segue1_target2',\n",
       " 'segue2_target1',\n",
       " 'segue2_target2',\n",
       " 'boss_target1',\n",
       " 'ancillary_target1',\n",
       " 'ancillary_target2',\n",
       " 'plateID',\n",
       " 'sourceType',\n",
       " 'targetObjID',\n",
       " 'objID',\n",
       " 'skyVersion',\n",
       " 'run',\n",
       " 'rerun',\n",
       " 'camcol',\n",
       " 'field',\n",
       " 'obj',\n",
       " 'mode',\n",
       " 'nChild',\n",
       " 'type',\n",
       " 'flags',\n",
       " 'psfMag_u',\n",
       " 'psfMag_g',\n",
       " 'psfMag_r',\n",
       " 'psfMag_i',\n",
       " 'psfMag_z',\n",
       " 'psfMagErr_u',\n",
       " 'psfMagErr_g',\n",
       " 'psfMagErr_r',\n",
       " 'psfMagErr_i',\n",
       " 'psfMagErr_z',\n",
       " 'fiberMag_u',\n",
       " 'fiberMag_g',\n",
       " 'fiberMag_r',\n",
       " 'fiberMag_i',\n",
       " 'fiberMag_z',\n",
       " 'fiberMagErr_u',\n",
       " 'fiberMagErr_g',\n",
       " 'fiberMagErr_r',\n",
       " 'fiberMagErr_i',\n",
       " 'fiberMagErr_z',\n",
       " 'petroMag_u',\n",
       " 'petroMag_g',\n",
       " 'petroMag_r',\n",
       " 'petroMag_i',\n",
       " 'petroMag_z',\n",
       " 'petroMagErr_u',\n",
       " 'petroMagErr_g',\n",
       " 'petroMagErr_r',\n",
       " 'petroMagErr_i',\n",
       " 'petroMagErr_z',\n",
       " 'modelMag_u',\n",
       " 'modelMag_g',\n",
       " 'modelMag_r',\n",
       " 'modelMag_i',\n",
       " 'modelMag_z',\n",
       " 'modelMagErr_u',\n",
       " 'modelMagErr_g',\n",
       " 'modelMagErr_r',\n",
       " 'modelMagErr_i',\n",
       " 'modelMagErr_z',\n",
       " 'cModelMag_u',\n",
       " 'cModelMag_g',\n",
       " 'cModelMag_r',\n",
       " 'cModelMag_i',\n",
       " 'cModelMag_z',\n",
       " 'cModelMagErr_u',\n",
       " 'cModelMagErr_g',\n",
       " 'cModelMagErr_r',\n",
       " 'cModelMagErr_i',\n",
       " 'cModelMagErr_z',\n",
       " 'mRrCc_r',\n",
       " 'mRrCcErr_r',\n",
       " 'score',\n",
       " 'resolveStatus',\n",
       " 'calibStatus_u',\n",
       " 'calibStatus_g',\n",
       " 'calibStatus_r',\n",
       " 'calibStatus_i',\n",
       " 'calibStatus_z',\n",
       " 'photoRa',\n",
       " 'photoDec',\n",
       " 'extinction_u',\n",
       " 'extinction_g',\n",
       " 'extinction_r',\n",
       " 'extinction_i',\n",
       " 'extinction_z',\n",
       " 'fieldID',\n",
       " 'dered_u',\n",
       " 'dered_g',\n",
       " 'dered_r',\n",
       " 'dered_i',\n",
       " 'dered_z']"
      ]
     },
     "execution_count": 3,
     "metadata": {},
     "output_type": "execute_result"
    }
   ],
   "source": [
    "# Find objects in the Sloan Digital Sky Survey's Data Release 16.\n",
    "#\n",
    "# Query the Sloan Digital Sky Serveys' Data Release 16.\n",
    "# For the database schema and documentation see http://skyserver.sdss.org/dr16\n",
    "#\n",
    "# store the query in an object called \"query\"\n",
    "\n",
    "query = (\n",
    "    \"\"\"\n",
    "    SELECT TOP 3 *\n",
    "        FROM specPhoto\n",
    "    \"\"\"\n",
    ")\n",
    "\n",
    "# execute the query to SDSS dr16 and store it in \"test\"\n",
    "test = CasJobs.executeQuery(query,\"dr16\")\n",
    "print(test.shape)\n",
    "test.keys().tolist()"
   ]
  },
  {
   "cell_type": "markdown",
   "metadata": {},
   "source": [
    "## Query 2\n",
    "Use aggregate functions such as MAX, MIN, AVG, and COUNT to return columns of important information about the data in table. "
   ]
  },
  {
   "cell_type": "code",
   "execution_count": 4,
   "metadata": {
    "scrolled": true
   },
   "outputs": [
    {
     "name": "stdout",
     "output_type": "stream",
     "text": [
      "(1, 7)\n"
     ]
    },
    {
     "data": {
      "text/html": [
       "<div>\n",
       "<style scoped>\n",
       "    .dataframe tbody tr th:only-of-type {\n",
       "        vertical-align: middle;\n",
       "    }\n",
       "\n",
       "    .dataframe tbody tr th {\n",
       "        vertical-align: top;\n",
       "    }\n",
       "\n",
       "    .dataframe thead th {\n",
       "        text-align: right;\n",
       "    }\n",
       "</style>\n",
       "<table border=\"1\" class=\"dataframe\">\n",
       "  <thead>\n",
       "    <tr style=\"text-align: right;\">\n",
       "      <th></th>\n",
       "      <th>max_ra</th>\n",
       "      <th>max_dec</th>\n",
       "      <th>min_ra</th>\n",
       "      <th>min_dec</th>\n",
       "      <th>mean_ra</th>\n",
       "      <th>mean_dec</th>\n",
       "      <th>count_data</th>\n",
       "    </tr>\n",
       "  </thead>\n",
       "  <tbody>\n",
       "    <tr>\n",
       "      <th>0</th>\n",
       "      <td>359.99994</td>\n",
       "      <td>84.852144</td>\n",
       "      <td>0.000091</td>\n",
       "      <td>-19.702714</td>\n",
       "      <td>172.803396</td>\n",
       "      <td>24.065093</td>\n",
       "      <td>4613773</td>\n",
       "    </tr>\n",
       "  </tbody>\n",
       "</table>\n",
       "</div>"
      ],
      "text/plain": [
       "      max_ra    max_dec    min_ra    min_dec     mean_ra   mean_dec  \\\n",
       "0  359.99994  84.852144  0.000091 -19.702714  172.803396  24.065093   \n",
       "\n",
       "   count_data  \n",
       "0     4613773  "
      ]
     },
     "execution_count": 4,
     "metadata": {},
     "output_type": "execute_result"
    }
   ],
   "source": [
    "query = (\n",
    "    \"\"\"\n",
    "    SELECT MAX(ra) AS max_ra,\n",
    "           MAX(dec) AS max_dec,\n",
    "           MIN(ra) AS min_ra,\n",
    "           MIN(dec) AS min_dec,\n",
    "           AVG(ra) AS mean_ra,\n",
    "           AVG(dec) AS mean_dec,\n",
    "           COUNT(ra) AS count_data\n",
    "        FROM specPhoto\n",
    "    \"\"\"\n",
    ")\n",
    "\n",
    "test = CasJobs.executeQuery(query,\"dr16\")\n",
    "print(test.shape)\n",
    "test.head(5)"
   ]
  },
  {
   "cell_type": "markdown",
   "metadata": {},
   "source": [
    "## Query 3\n",
    "Can use COUNT to determine the number of rows that match a specific classification and then group them according to that classification. CASE acts like an if else block to change values in the rows. LOWER/UPPER converts strings to upper or lower case. Need the GROUP BY clause to aggregate the results of class.\n"
   ]
  },
  {
   "cell_type": "code",
   "execution_count": 5,
   "metadata": {
    "scrolled": true
   },
   "outputs": [
    {
     "name": "stdout",
     "output_type": "stream",
     "text": [
      "(3, 2)\n"
     ]
    },
    {
     "data": {
      "text/html": [
       "<div>\n",
       "<style scoped>\n",
       "    .dataframe tbody tr th:only-of-type {\n",
       "        vertical-align: middle;\n",
       "    }\n",
       "\n",
       "    .dataframe tbody tr th {\n",
       "        vertical-align: top;\n",
       "    }\n",
       "\n",
       "    .dataframe thead th {\n",
       "        text-align: right;\n",
       "    }\n",
       "</style>\n",
       "<table border=\"1\" class=\"dataframe\">\n",
       "  <thead>\n",
       "    <tr style=\"text-align: right;\">\n",
       "      <th></th>\n",
       "      <th>count_class</th>\n",
       "      <th>class</th>\n",
       "    </tr>\n",
       "  </thead>\n",
       "  <tbody>\n",
       "    <tr>\n",
       "      <th>0</th>\n",
       "      <td>2787883</td>\n",
       "      <td>galaxy</td>\n",
       "    </tr>\n",
       "    <tr>\n",
       "      <th>1</th>\n",
       "      <td>864053</td>\n",
       "      <td>quasar</td>\n",
       "    </tr>\n",
       "    <tr>\n",
       "      <th>2</th>\n",
       "      <td>961837</td>\n",
       "      <td>star</td>\n",
       "    </tr>\n",
       "  </tbody>\n",
       "</table>\n",
       "</div>"
      ],
      "text/plain": [
       "   count_class   class\n",
       "0      2787883  galaxy\n",
       "1       864053  quasar\n",
       "2       961837    star"
      ]
     },
     "execution_count": 5,
     "metadata": {},
     "output_type": "execute_result"
    }
   ],
   "source": [
    "query = (\n",
    "    \"\"\"\n",
    "    SELECT COUNT(class) AS count_class, \n",
    "           CASE \n",
    "               WHEN class = 'QSO' THEN 'quasar'\n",
    "               ELSE LOWER(class)\n",
    "           END AS class\n",
    "        FROM specPhoto \n",
    "    GROUP BY class\n",
    "    \"\"\"\n",
    ")\n",
    "\n",
    "test = CasJobs.executeQuery(query,\"dr16\")\n",
    "print(test.shape)\n",
    "test.head(5)"
   ]
  },
  {
   "cell_type": "markdown",
   "metadata": {},
   "source": [
    "## Query 4\n",
    "A query to choose a subset of the columns. We can select values of ra and dec that fall in a certain range using WHERE. The ranges used are within the min and max found in the previous query."
   ]
  },
  {
   "cell_type": "code",
   "execution_count": 6,
   "metadata": {},
   "outputs": [
    {
     "name": "stdout",
     "output_type": "stream",
     "text": [
      "(475, 9)\n"
     ]
    },
    {
     "data": {
      "text/html": [
       "<div>\n",
       "<style scoped>\n",
       "    .dataframe tbody tr th:only-of-type {\n",
       "        vertical-align: middle;\n",
       "    }\n",
       "\n",
       "    .dataframe tbody tr th {\n",
       "        vertical-align: top;\n",
       "    }\n",
       "\n",
       "    .dataframe thead th {\n",
       "        text-align: right;\n",
       "    }\n",
       "</style>\n",
       "<table border=\"1\" class=\"dataframe\">\n",
       "  <thead>\n",
       "    <tr style=\"text-align: right;\">\n",
       "      <th></th>\n",
       "      <th>z</th>\n",
       "      <th>ra</th>\n",
       "      <th>dec</th>\n",
       "      <th>dered_u</th>\n",
       "      <th>dered_g</th>\n",
       "      <th>dered_r</th>\n",
       "      <th>dered_i</th>\n",
       "      <th>dered_z</th>\n",
       "      <th>class</th>\n",
       "    </tr>\n",
       "  </thead>\n",
       "  <tbody>\n",
       "    <tr>\n",
       "      <th>0</th>\n",
       "      <td>0.152431</td>\n",
       "      <td>256.78228</td>\n",
       "      <td>63.422400</td>\n",
       "      <td>19.48079</td>\n",
       "      <td>18.27097</td>\n",
       "      <td>17.63202</td>\n",
       "      <td>17.23732</td>\n",
       "      <td>17.03432</td>\n",
       "      <td>GALAXY</td>\n",
       "    </tr>\n",
       "    <tr>\n",
       "      <th>1</th>\n",
       "      <td>0.152465</td>\n",
       "      <td>256.79456</td>\n",
       "      <td>63.489868</td>\n",
       "      <td>19.89245</td>\n",
       "      <td>17.86630</td>\n",
       "      <td>16.72920</td>\n",
       "      <td>16.25296</td>\n",
       "      <td>15.88060</td>\n",
       "      <td>GALAXY</td>\n",
       "    </tr>\n",
       "    <tr>\n",
       "      <th>2</th>\n",
       "      <td>0.000114</td>\n",
       "      <td>256.88131</td>\n",
       "      <td>63.564213</td>\n",
       "      <td>26.22519</td>\n",
       "      <td>24.70856</td>\n",
       "      <td>23.52728</td>\n",
       "      <td>20.66307</td>\n",
       "      <td>18.90411</td>\n",
       "      <td>STAR</td>\n",
       "    </tr>\n",
       "    <tr>\n",
       "      <th>3</th>\n",
       "      <td>0.079594</td>\n",
       "      <td>257.18246</td>\n",
       "      <td>63.499247</td>\n",
       "      <td>18.67426</td>\n",
       "      <td>17.59136</td>\n",
       "      <td>17.21099</td>\n",
       "      <td>16.90334</td>\n",
       "      <td>16.74061</td>\n",
       "      <td>GALAXY</td>\n",
       "    </tr>\n",
       "    <tr>\n",
       "      <th>4</th>\n",
       "      <td>0.189071</td>\n",
       "      <td>256.67234</td>\n",
       "      <td>63.461108</td>\n",
       "      <td>20.42850</td>\n",
       "      <td>18.37520</td>\n",
       "      <td>17.13770</td>\n",
       "      <td>16.64178</td>\n",
       "      <td>16.28146</td>\n",
       "      <td>GALAXY</td>\n",
       "    </tr>\n",
       "  </tbody>\n",
       "</table>\n",
       "</div>"
      ],
      "text/plain": [
       "          z         ra        dec   dered_u   dered_g   dered_r   dered_i  \\\n",
       "0  0.152431  256.78228  63.422400  19.48079  18.27097  17.63202  17.23732   \n",
       "1  0.152465  256.79456  63.489868  19.89245  17.86630  16.72920  16.25296   \n",
       "2  0.000114  256.88131  63.564213  26.22519  24.70856  23.52728  20.66307   \n",
       "3  0.079594  257.18246  63.499247  18.67426  17.59136  17.21099  16.90334   \n",
       "4  0.189071  256.67234  63.461108  20.42850  18.37520  17.13770  16.64178   \n",
       "\n",
       "    dered_z   class  \n",
       "0  17.03432  GALAXY  \n",
       "1  15.88060  GALAXY  \n",
       "2  18.90411    STAR  \n",
       "3  16.74061  GALAXY  \n",
       "4  16.28146  GALAXY  "
      ]
     },
     "execution_count": 6,
     "metadata": {},
     "output_type": "execute_result"
    }
   ],
   "source": [
    "query = (\n",
    "    \"\"\"\n",
    "    SELECT z,ra,dec,dered_u,dered_g,dered_r,dered_i,dered_z,class\n",
    "        FROM specPhoto\n",
    "    WHERE (ra BETWEEN 256.5 AND 259.7) AND \n",
    "          (dec BETWEEN 63.4 and 64.8)\n",
    "    \"\"\"\n",
    ")\n",
    "\n",
    "test = CasJobs.executeQuery(query,\"dr16\")\n",
    "print(test.shape)\n",
    "test.head(5)"
   ]
  },
  {
   "cell_type": "code",
   "execution_count": 7,
   "metadata": {},
   "outputs": [
    {
     "data": {
      "image/png": "[encoded data removed]",
      "text/plain": [
       "<Figure size 1080x360 with 2 Axes>"
      ]
     },
     "metadata": {},
     "output_type": "display_data"
    }
   ],
   "source": [
    "fig,ax = plt.subplots(1,2,figsize=(15,5))\n",
    "\n",
    "sns.scatterplot(data=test,\n",
    "                x=\"ra\",y=\"dec\",\n",
    "                hue=\"class\",\n",
    "                ax=ax[0])\n",
    "sns.countplot(data=test,\n",
    "              x=\"class\",\n",
    "              ax=ax[1])\n",
    "plt.show()"
   ]
  },
  {
   "cell_type": "markdown",
   "metadata": {},
   "source": [
    "# Redshift distribution¶\n",
    "If you just look out into space along a \"square code\" of 1.4 degrees on a side, what do you expect to find for the distribution of number of objects as a function of redshift?\n",
    "Let's check to see if the redshift distribution of objects in our search matches this expectation. We'll use plt.hist."
   ]
  },
  {
   "cell_type": "code",
   "execution_count": 8,
   "metadata": {},
   "outputs": [
    {
     "data": {
      "image/png": "[encoded data removed]",
      "text/plain": [
       "<Figure size 576x432 with 1 Axes>"
      ]
     },
     "metadata": {},
     "output_type": "display_data"
    }
   ],
   "source": [
    "# first make some bins that encompass the range\n",
    "bins = np.linspace(test['z'].min(),test['z'].max(),318,endpoint=True)\n",
    "\n",
    "fig,ax = plt.subplots(figsize=(8,6))\n",
    "sns.histplot(data=test,\n",
    "             x=\"z\",\n",
    "             bins=bins,\n",
    "             stat=\"density\",\n",
    "             element=\"step\")\n",
    "ax.set(xlim=(0,0.25))\n",
    "plt.show()"
   ]
  },
  {
   "cell_type": "markdown",
   "metadata": {},
   "source": [
    "# Cluster of Galaxies\n",
    "It turns out that our line of sight included a cluster of galaxies called Abell 2255.\n",
    "\n",
    "Wikipedia definition:\n",
    "    A galaxy cluster, or cluster of galaxies, is a structure that consists of anywhere from hundreds to thousands of  galaxies that are bound together by gravity with typical masses ranging from 1014–1015 solar masses. They are the largest known gravitationally bound structures in the universe and were believed to be the largest known structures in the universe until the 1980s, when superclusters were discovered.\n",
    "    \n",
    "The bottom line is that even though the Universe started out extremely smooth (e.g., fluctuations in the Cosmic Microwave Background temperature are one part in 14,000), it became clumpier and clumpier as it evolved. The most obvious evidence for the clumpiness are galaxies themselves, but those galaxies are frequently organized in groups or clusters of galaxies. To seen an example of this: https://ned.ipac.caltech.edu/level5/March12/Coil/Figures/figure3.jpg\n",
    "We will spend some time at the end of the course discussing how this structure came about.\n",
    "It is important to note that this procedure is only showing the galaxies from which spectra were obtained. Abell 2255 is a rich cluster of galaxies, which means that there are 1000s of galaxies in the cluster. SDSS does not obtain spectra of all of them because there is a limit to how closely the fibers can be packed. However, a sufficient sample is obtained to get an idea of the properties of the cluster.\n",
    "It turns out that a plot of the RA and DEC of our selection reveals the cluster of galaxies as a central concentration."
   ]
  },
  {
   "cell_type": "code",
   "execution_count": 9,
   "metadata": {},
   "outputs": [
    {
     "data": {
      "image/png": "[encoded data removed]",
      "text/plain": [
       "<Figure size 576x432 with 1 Axes>"
      ]
     },
     "metadata": {},
     "output_type": "display_data"
    }
   ],
   "source": [
    "fig,ax = plt.subplots(figsize=(8,6))\n",
    "\n",
    "sns.scatterplot(data=test,\n",
    "                x=\"ra\",y=\"dec\",\n",
    "                hue=\"class\")\n",
    "plt.show()"
   ]
  },
  {
   "cell_type": "markdown",
   "metadata": {},
   "source": [
    "As the table and the histogram above shows, there are a lot of objects in our sample that aren't associated with the structure, and the structure might show up better if we were to isolate only the cluster galaxies. What we can do is redo our query, but this time restrict the redshift range and the object type.\n",
    "What should the redshift range be? We can find out by making a plot only around the cluster peak."
   ]
  },
  {
   "cell_type": "code",
   "execution_count": 10,
   "metadata": {},
   "outputs": [
    {
     "data": {
      "image/png": "[encoded data removed]",
      "text/plain": [
       "<Figure size 576x432 with 1 Axes>"
      ]
     },
     "metadata": {},
     "output_type": "display_data"
    }
   ],
   "source": [
    "# first make some bins that encompass the range\n",
    "bins = np.linspace(0.06,0.1,200,endpoint=True)\n",
    "\n",
    "fig,ax = plt.subplots(figsize=(8,6))\n",
    "sns.histplot(data=test,\n",
    "             x=\"z\",\n",
    "             bins=bins,\n",
    "             stat=\"density\",\n",
    "             element=\"step\")\n",
    "plt.show()"
   ]
  },
  {
   "cell_type": "markdown",
   "metadata": {},
   "source": [
    "# Machine Learning: Neural Network\n",
    "\n",
    "The previous query returned a subset of the full data. There are 8 features and 1 classifier. \n",
    "\n",
    "    X = z,ra,dec,dered_u,dered_g,dered_r,dered_i,dered_z\n",
    "    y = class\n",
    "\n",
    "where class = galaxy, QSO, star.\n",
    "\n",
    "A neural network can be trained to determine the classification based on the given features. \n",
    "\n",
    "Expand the query search and then convert classes from strings to integer labels."
   ]
  },
  {
   "cell_type": "code",
   "execution_count": 11,
   "metadata": {},
   "outputs": [
    {
     "name": "stdout",
     "output_type": "stream",
     "text": [
      "(6523, 9)\n"
     ]
    },
    {
     "data": {
      "text/html": [
       "<div>\n",
       "<style scoped>\n",
       "    .dataframe tbody tr th:only-of-type {\n",
       "        vertical-align: middle;\n",
       "    }\n",
       "\n",
       "    .dataframe tbody tr th {\n",
       "        vertical-align: top;\n",
       "    }\n",
       "\n",
       "    .dataframe thead th {\n",
       "        text-align: right;\n",
       "    }\n",
       "</style>\n",
       "<table border=\"1\" class=\"dataframe\">\n",
       "  <thead>\n",
       "    <tr style=\"text-align: right;\">\n",
       "      <th></th>\n",
       "      <th>z</th>\n",
       "      <th>ra</th>\n",
       "      <th>dec</th>\n",
       "      <th>dered_u</th>\n",
       "      <th>dered_g</th>\n",
       "      <th>dered_r</th>\n",
       "      <th>dered_i</th>\n",
       "      <th>dered_z</th>\n",
       "      <th>class</th>\n",
       "    </tr>\n",
       "  </thead>\n",
       "  <tbody>\n",
       "    <tr>\n",
       "      <th>0</th>\n",
       "      <td>0.000010</td>\n",
       "      <td>277.61413</td>\n",
       "      <td>64.792012</td>\n",
       "      <td>16.33645</td>\n",
       "      <td>15.28708</td>\n",
       "      <td>15.06910</td>\n",
       "      <td>15.00701</td>\n",
       "      <td>15.02738</td>\n",
       "      <td>STAR</td>\n",
       "    </tr>\n",
       "    <tr>\n",
       "      <th>1</th>\n",
       "      <td>-0.000544</td>\n",
       "      <td>277.67082</td>\n",
       "      <td>64.629417</td>\n",
       "      <td>16.94332</td>\n",
       "      <td>15.50342</td>\n",
       "      <td>14.92497</td>\n",
       "      <td>14.68519</td>\n",
       "      <td>14.57316</td>\n",
       "      <td>STAR</td>\n",
       "    </tr>\n",
       "    <tr>\n",
       "      <th>2</th>\n",
       "      <td>-0.000212</td>\n",
       "      <td>277.87271</td>\n",
       "      <td>64.563003</td>\n",
       "      <td>16.21088</td>\n",
       "      <td>16.38353</td>\n",
       "      <td>16.89942</td>\n",
       "      <td>17.24982</td>\n",
       "      <td>17.53777</td>\n",
       "      <td>STAR</td>\n",
       "    </tr>\n",
       "    <tr>\n",
       "      <th>3</th>\n",
       "      <td>-0.000458</td>\n",
       "      <td>277.82355</td>\n",
       "      <td>64.749550</td>\n",
       "      <td>17.11062</td>\n",
       "      <td>16.13788</td>\n",
       "      <td>15.96873</td>\n",
       "      <td>15.91311</td>\n",
       "      <td>15.95269</td>\n",
       "      <td>STAR</td>\n",
       "    </tr>\n",
       "    <tr>\n",
       "      <th>4</th>\n",
       "      <td>-0.000720</td>\n",
       "      <td>277.51232</td>\n",
       "      <td>64.706455</td>\n",
       "      <td>18.25936</td>\n",
       "      <td>17.33069</td>\n",
       "      <td>17.08629</td>\n",
       "      <td>16.94284</td>\n",
       "      <td>16.91855</td>\n",
       "      <td>STAR</td>\n",
       "    </tr>\n",
       "  </tbody>\n",
       "</table>\n",
       "</div>"
      ],
      "text/plain": [
       "          z         ra        dec   dered_u   dered_g   dered_r   dered_i  \\\n",
       "0  0.000010  277.61413  64.792012  16.33645  15.28708  15.06910  15.00701   \n",
       "1 -0.000544  277.67082  64.629417  16.94332  15.50342  14.92497  14.68519   \n",
       "2 -0.000212  277.87271  64.563003  16.21088  16.38353  16.89942  17.24982   \n",
       "3 -0.000458  277.82355  64.749550  17.11062  16.13788  15.96873  15.91311   \n",
       "4 -0.000720  277.51232  64.706455  18.25936  17.33069  17.08629  16.94284   \n",
       "\n",
       "    dered_z class  \n",
       "0  15.02738  STAR  \n",
       "1  14.57316  STAR  \n",
       "2  17.53777  STAR  \n",
       "3  15.95269  STAR  \n",
       "4  16.91855  STAR  "
      ]
     },
     "execution_count": 11,
     "metadata": {},
     "output_type": "execute_result"
    }
   ],
   "source": [
    "query = (\n",
    "    \"\"\"\n",
    "    SELECT z,ra,dec,dered_u,dered_g,dered_r,dered_i,dered_z,class\n",
    "        FROM specPhoto\n",
    "    WHERE (ra BETWEEN 200 AND 300) AND \n",
    "          (dec BETWEEN 63.4 and 64.8)\n",
    "    \"\"\"\n",
    ")\n",
    "\n",
    "test = CasJobs.executeQuery(query,\"dr16\")\n",
    "print(test.shape)\n",
    "test.head(5)"
   ]
  },
  {
   "cell_type": "code",
   "execution_count": 12,
   "metadata": {},
   "outputs": [],
   "source": [
    "# relevant machine learning modules\n",
    "from sklearn.feature_selection import RFE\n",
    "from sklearn.neural_network import MLPClassifier\n",
    "from sklearn.preprocessing import StandardScaler,LabelEncoder\n",
    "from sklearn.model_selection import train_test_split\n",
    "import sklearn.metrics as metrics\n",
    "from sklearn.cluster import KMeans\n",
    "import numpy as np\n",
    "import scipy as sp\n",
    "import pandas as pd\n",
    "from sklearn import (linear_model,pipeline,model_selection,preprocessing,\n",
    "                    tree,ensemble,svm,decomposition,multioutput,metrics,\n",
    "                    feature_selection,neural_network,cluster)\n",
    "import matplotlib.pyplot as plt\n",
    "import seaborn as sns"
   ]
  },
  {
   "cell_type": "code",
   "execution_count": 13,
   "metadata": {},
   "outputs": [],
   "source": [
    "# Extract classes from data frame and convert them to integers.\n",
    "# add new column of classifier indicies to dummy  dataframe df\n",
    "\"\"\"\n",
    "# this way throws an error setcopywarning\n",
    "classes = test['class'].unique()\n",
    "df = test.copy(deep=True)\n",
    "df['class_idx'] = df['class']\n",
    "for (i,c) in enumerate(classes):\n",
    "    l = (df['class'] == c)\n",
    "    df['class_idx'][l] = i\n",
    "\n",
    "# This way works\n",
    "df = test.copy(deep=True)\n",
    "df[['class_idx']]  = df[['class']].apply(lambda x: pd.factorize(x)[0] )\n",
    "\"\"\"\n",
    "# using sklearn to do the conversion \n",
    "df = test.copy(deep=True)\n",
    "le = preprocessing.LabelEncoder()\n",
    "df['class_idx'] = le.fit_transform(df['class'])"
   ]
  },
  {
   "cell_type": "code",
   "execution_count": 14,
   "metadata": {},
   "outputs": [
    {
     "data": {
      "text/html": [
       "<div>\n",
       "<style scoped>\n",
       "    .dataframe tbody tr th:only-of-type {\n",
       "        vertical-align: middle;\n",
       "    }\n",
       "\n",
       "    .dataframe tbody tr th {\n",
       "        vertical-align: top;\n",
       "    }\n",
       "\n",
       "    .dataframe thead th {\n",
       "        text-align: right;\n",
       "    }\n",
       "</style>\n",
       "<table border=\"1\" class=\"dataframe\">\n",
       "  <thead>\n",
       "    <tr style=\"text-align: right;\">\n",
       "      <th></th>\n",
       "      <th>z</th>\n",
       "      <th>ra</th>\n",
       "      <th>dec</th>\n",
       "      <th>dered_u</th>\n",
       "      <th>dered_g</th>\n",
       "      <th>dered_r</th>\n",
       "      <th>dered_i</th>\n",
       "      <th>dered_z</th>\n",
       "      <th>class</th>\n",
       "      <th>class_idx</th>\n",
       "    </tr>\n",
       "  </thead>\n",
       "  <tbody>\n",
       "    <tr>\n",
       "      <th>0</th>\n",
       "      <td>0.000010</td>\n",
       "      <td>277.61413</td>\n",
       "      <td>64.792012</td>\n",
       "      <td>16.33645</td>\n",
       "      <td>15.28708</td>\n",
       "      <td>15.06910</td>\n",
       "      <td>15.00701</td>\n",
       "      <td>15.02738</td>\n",
       "      <td>STAR</td>\n",
       "      <td>2</td>\n",
       "    </tr>\n",
       "    <tr>\n",
       "      <th>1</th>\n",
       "      <td>-0.000544</td>\n",
       "      <td>277.67082</td>\n",
       "      <td>64.629417</td>\n",
       "      <td>16.94332</td>\n",
       "      <td>15.50342</td>\n",
       "      <td>14.92497</td>\n",
       "      <td>14.68519</td>\n",
       "      <td>14.57316</td>\n",
       "      <td>STAR</td>\n",
       "      <td>2</td>\n",
       "    </tr>\n",
       "    <tr>\n",
       "      <th>2</th>\n",
       "      <td>-0.000212</td>\n",
       "      <td>277.87271</td>\n",
       "      <td>64.563003</td>\n",
       "      <td>16.21088</td>\n",
       "      <td>16.38353</td>\n",
       "      <td>16.89942</td>\n",
       "      <td>17.24982</td>\n",
       "      <td>17.53777</td>\n",
       "      <td>STAR</td>\n",
       "      <td>2</td>\n",
       "    </tr>\n",
       "    <tr>\n",
       "      <th>3</th>\n",
       "      <td>-0.000458</td>\n",
       "      <td>277.82355</td>\n",
       "      <td>64.749550</td>\n",
       "      <td>17.11062</td>\n",
       "      <td>16.13788</td>\n",
       "      <td>15.96873</td>\n",
       "      <td>15.91311</td>\n",
       "      <td>15.95269</td>\n",
       "      <td>STAR</td>\n",
       "      <td>2</td>\n",
       "    </tr>\n",
       "    <tr>\n",
       "      <th>4</th>\n",
       "      <td>-0.000720</td>\n",
       "      <td>277.51232</td>\n",
       "      <td>64.706455</td>\n",
       "      <td>18.25936</td>\n",
       "      <td>17.33069</td>\n",
       "      <td>17.08629</td>\n",
       "      <td>16.94284</td>\n",
       "      <td>16.91855</td>\n",
       "      <td>STAR</td>\n",
       "      <td>2</td>\n",
       "    </tr>\n",
       "    <tr>\n",
       "      <th>5</th>\n",
       "      <td>-0.000135</td>\n",
       "      <td>277.76621</td>\n",
       "      <td>64.797106</td>\n",
       "      <td>19.15401</td>\n",
       "      <td>17.61396</td>\n",
       "      <td>17.12860</td>\n",
       "      <td>16.94875</td>\n",
       "      <td>16.86462</td>\n",
       "      <td>STAR</td>\n",
       "      <td>2</td>\n",
       "    </tr>\n",
       "    <tr>\n",
       "      <th>6</th>\n",
       "      <td>-0.000302</td>\n",
       "      <td>277.86307</td>\n",
       "      <td>64.578286</td>\n",
       "      <td>14.67912</td>\n",
       "      <td>14.98340</td>\n",
       "      <td>15.51418</td>\n",
       "      <td>15.87435</td>\n",
       "      <td>16.19737</td>\n",
       "      <td>STAR</td>\n",
       "      <td>2</td>\n",
       "    </tr>\n",
       "    <tr>\n",
       "      <th>7</th>\n",
       "      <td>-0.000221</td>\n",
       "      <td>277.53618</td>\n",
       "      <td>64.739115</td>\n",
       "      <td>17.64710</td>\n",
       "      <td>16.56980</td>\n",
       "      <td>16.29330</td>\n",
       "      <td>16.17790</td>\n",
       "      <td>16.14691</td>\n",
       "      <td>STAR</td>\n",
       "      <td>2</td>\n",
       "    </tr>\n",
       "    <tr>\n",
       "      <th>8</th>\n",
       "      <td>-0.001138</td>\n",
       "      <td>277.61670</td>\n",
       "      <td>64.740598</td>\n",
       "      <td>18.49893</td>\n",
       "      <td>17.30098</td>\n",
       "      <td>17.21230</td>\n",
       "      <td>17.13532</td>\n",
       "      <td>17.11097</td>\n",
       "      <td>STAR</td>\n",
       "      <td>2</td>\n",
       "    </tr>\n",
       "    <tr>\n",
       "      <th>9</th>\n",
       "      <td>0.000036</td>\n",
       "      <td>277.52620</td>\n",
       "      <td>64.441905</td>\n",
       "      <td>16.05492</td>\n",
       "      <td>14.95917</td>\n",
       "      <td>14.70630</td>\n",
       "      <td>14.62613</td>\n",
       "      <td>14.63064</td>\n",
       "      <td>STAR</td>\n",
       "      <td>2</td>\n",
       "    </tr>\n",
       "    <tr>\n",
       "      <th>10</th>\n",
       "      <td>-0.000233</td>\n",
       "      <td>277.70353</td>\n",
       "      <td>64.548898</td>\n",
       "      <td>17.60931</td>\n",
       "      <td>16.57644</td>\n",
       "      <td>16.41032</td>\n",
       "      <td>16.38029</td>\n",
       "      <td>16.42724</td>\n",
       "      <td>STAR</td>\n",
       "      <td>2</td>\n",
       "    </tr>\n",
       "    <tr>\n",
       "      <th>11</th>\n",
       "      <td>-0.000174</td>\n",
       "      <td>277.47742</td>\n",
       "      <td>64.594914</td>\n",
       "      <td>19.22247</td>\n",
       "      <td>17.76013</td>\n",
       "      <td>17.25971</td>\n",
       "      <td>17.09457</td>\n",
       "      <td>17.04129</td>\n",
       "      <td>STAR</td>\n",
       "      <td>2</td>\n",
       "    </tr>\n",
       "    <tr>\n",
       "      <th>12</th>\n",
       "      <td>-0.000748</td>\n",
       "      <td>277.66622</td>\n",
       "      <td>64.238156</td>\n",
       "      <td>18.65238</td>\n",
       "      <td>17.50121</td>\n",
       "      <td>17.05205</td>\n",
       "      <td>16.82252</td>\n",
       "      <td>16.65079</td>\n",
       "      <td>STAR</td>\n",
       "      <td>2</td>\n",
       "    </tr>\n",
       "    <tr>\n",
       "      <th>13</th>\n",
       "      <td>-0.000291</td>\n",
       "      <td>277.89087</td>\n",
       "      <td>64.397639</td>\n",
       "      <td>18.04500</td>\n",
       "      <td>16.66133</td>\n",
       "      <td>16.15148</td>\n",
       "      <td>15.95006</td>\n",
       "      <td>15.85432</td>\n",
       "      <td>STAR</td>\n",
       "      <td>2</td>\n",
       "    </tr>\n",
       "    <tr>\n",
       "      <th>14</th>\n",
       "      <td>-0.000304</td>\n",
       "      <td>277.85393</td>\n",
       "      <td>64.405536</td>\n",
       "      <td>17.48607</td>\n",
       "      <td>16.45170</td>\n",
       "      <td>16.21205</td>\n",
       "      <td>16.13620</td>\n",
       "      <td>16.14096</td>\n",
       "      <td>STAR</td>\n",
       "      <td>2</td>\n",
       "    </tr>\n",
       "    <tr>\n",
       "      <th>15</th>\n",
       "      <td>-0.000250</td>\n",
       "      <td>277.94387</td>\n",
       "      <td>64.553470</td>\n",
       "      <td>19.32232</td>\n",
       "      <td>17.89123</td>\n",
       "      <td>17.41920</td>\n",
       "      <td>17.26484</td>\n",
       "      <td>17.20560</td>\n",
       "      <td>STAR</td>\n",
       "      <td>2</td>\n",
       "    </tr>\n",
       "  </tbody>\n",
       "</table>\n",
       "</div>"
      ],
      "text/plain": [
       "           z         ra        dec   dered_u   dered_g   dered_r   dered_i  \\\n",
       "0   0.000010  277.61413  64.792012  16.33645  15.28708  15.06910  15.00701   \n",
       "1  -0.000544  277.67082  64.629417  16.94332  15.50342  14.92497  14.68519   \n",
       "2  -0.000212  277.87271  64.563003  16.21088  16.38353  16.89942  17.24982   \n",
       "3  -0.000458  277.82355  64.749550  17.11062  16.13788  15.96873  15.91311   \n",
       "4  -0.000720  277.51232  64.706455  18.25936  17.33069  17.08629  16.94284   \n",
       "5  -0.000135  277.76621  64.797106  19.15401  17.61396  17.12860  16.94875   \n",
       "6  -0.000302  277.86307  64.578286  14.67912  14.98340  15.51418  15.87435   \n",
       "7  -0.000221  277.53618  64.739115  17.64710  16.56980  16.29330  16.17790   \n",
       "8  -0.001138  277.61670  64.740598  18.49893  17.30098  17.21230  17.13532   \n",
       "9   0.000036  277.52620  64.441905  16.05492  14.95917  14.70630  14.62613   \n",
       "10 -0.000233  277.70353  64.548898  17.60931  16.57644  16.41032  16.38029   \n",
       "11 -0.000174  277.47742  64.594914  19.22247  17.76013  17.25971  17.09457   \n",
       "12 -0.000748  277.66622  64.238156  18.65238  17.50121  17.05205  16.82252   \n",
       "13 -0.000291  277.89087  64.397639  18.04500  16.66133  16.15148  15.95006   \n",
       "14 -0.000304  277.85393  64.405536  17.48607  16.45170  16.21205  16.13620   \n",
       "15 -0.000250  277.94387  64.553470  19.32232  17.89123  17.41920  17.26484   \n",
       "\n",
       "     dered_z class  class_idx  \n",
       "0   15.02738  STAR          2  \n",
       "1   14.57316  STAR          2  \n",
       "2   17.53777  STAR          2  \n",
       "3   15.95269  STAR          2  \n",
       "4   16.91855  STAR          2  \n",
       "5   16.86462  STAR          2  \n",
       "6   16.19737  STAR          2  \n",
       "7   16.14691  STAR          2  \n",
       "8   17.11097  STAR          2  \n",
       "9   14.63064  STAR          2  \n",
       "10  16.42724  STAR          2  \n",
       "11  17.04129  STAR          2  \n",
       "12  16.65079  STAR          2  \n",
       "13  15.85432  STAR          2  \n",
       "14  16.14096  STAR          2  \n",
       "15  17.20560  STAR          2  "
      ]
     },
     "execution_count": 14,
     "metadata": {},
     "output_type": "execute_result"
    }
   ],
   "source": [
    "df.head(16)"
   ]
  },
  {
   "cell_type": "code",
   "execution_count": 15,
   "metadata": {},
   "outputs": [],
   "source": [
    "# separate data frame into features and classifiers\n",
    "X = df.drop(columns=['class','class_idx']).values\n",
    "y = df['class_idx'].values"
   ]
  },
  {
   "cell_type": "code",
   "execution_count": 16,
   "metadata": {},
   "outputs": [
    {
     "name": "stdout",
     "output_type": "stream",
     "text": [
      "-> RMSE of training set = 0.152654 with score = 0.987735\n",
      "-> RMSE = 0.19497 of test set with score = 0.98038\n",
      "\n",
      "best parameters from cross validsation:  {'nn__alpha': 0.01, 'nn__hidden_layer_sizes': [25, 25]}\n",
      "best score from cross validation:  0.9818071108827295\n",
      "\n",
      "F1-scores:  [0.98233618 0.94444444 0.99009901]\n",
      "F1-mean:  0.9722932122272057\n"
     ]
    },
    {
     "name": "stderr",
     "output_type": "stream",
     "text": [
      "/home/idies/miniconda3/envs/py38/lib/python3.8/site-packages/sklearn/neural_network/_multilayer_perceptron.py:582: ConvergenceWarning: Stochastic Optimizer: Maximum iterations (200) reached and the optimization hasn't converged yet.\n",
      "  warnings.warn(\n"
     ]
    }
   ],
   "source": [
    "# split test set\n",
    "Xtrain, Xtest, ytrain,ytest = model_selection.train_test_split(X,y)\n",
    "# grid search to find optimal paramters of neural network \n",
    "parameters = {'nn__alpha':[0.0001,0.001,0.01],\n",
    "              'nn__hidden_layer_sizes':[[10],[10,10],[10,10,10],\n",
    "                                        [25],[25,25],[25,25,25]]\n",
    "}\n",
    "# build pipeline with feature scaling and Ridge linear regression\n",
    "pipe = pipeline.Pipeline([\n",
    "                          ('std',preprocessing.StandardScaler()),\n",
    "                          ('nn',neural_network.MLPClassifier())\n",
    "])\n",
    "f1_scorer = metrics.make_scorer(metrics.f1_score,average='micro')\n",
    "model = model_selection.GridSearchCV(pipe,\n",
    "                                     parameters,\n",
    "                                     refit=True,\n",
    "                                     return_train_score=True,\n",
    "                                     #scoring='f1_micro',\n",
    "                                     scoring=f1_scorer,\n",
    "                                     n_jobs=-1)\n",
    "model.fit(Xtrain,ytrain)\n",
    "# prediction training set and test set \n",
    "ptrain = model.predict(Xtrain)\n",
    "ptest = model.predict(Xtest)\n",
    "\n",
    "err_train = metrics.mean_squared_error(ytrain,ptrain)\n",
    "print(\"-> RMSE of training set = %g with score = %g\"%(err_train**0.5,model.score(Xtrain,ytrain)))\n",
    "\n",
    "err_test = metrics.mean_squared_error(ytest,ptest)\n",
    "print(\"-> RMSE = %g of test set with score = %g\"%(err_test**0.5,model.score(Xtest,ytest)))\n",
    "\n",
    "print('\\nbest parameters from cross validsation: ',model.best_params_)\n",
    "print('best score from cross validation: ',model.best_score_)\n",
    "\n",
    "ptest = model.predict(Xtest)\n",
    "f1 = metrics.f1_score(ytest,ptest,average=None)\n",
    "print(\"\\nF1-scores: \",f1)\n",
    "print(\"F1-mean: \",np.mean(f1))"
   ]
  },
  {
   "cell_type": "code",
   "execution_count": 17,
   "metadata": {},
   "outputs": [
    {
     "data": {
      "image/png": "[encoded data removed]",
      "text/plain": [
       "<Figure size 1080x360 with 2 Axes>"
      ]
     },
     "metadata": {},
     "output_type": "display_data"
    }
   ],
   "source": [
    "pfull = model.predict(X)\n",
    "pfull = le.inverse_transform(pfull)\n",
    "fig,ax = plt.subplots(1,2,\n",
    "                      figsize=(15,5))\n",
    "sns.countplot(data=df,\n",
    "              x=\"class\",\n",
    "              ax=ax[0])\n",
    "sns.countplot(x=pfull,\n",
    "              ax=ax[1])\n",
    "ax[1].set(xlabel='class')\n",
    "plt.show()"
   ]
  },
  {
   "cell_type": "code",
   "execution_count": 18,
   "metadata": {},
   "outputs": [
    {
     "name": "stdout",
     "output_type": "stream",
     "text": [
      "-> RMSE of training set = 0 with score = 1\n",
      "-> RMSE = 0.193392 of test set with score = 0.982833\n",
      "\n",
      "best parameters from cross validsation:  {'rf__n_estimators': 99}\n",
      "best score from cross validation:  0.9795578310157478\n",
      "\n",
      "F1-scores:  [0.98377752 0.95367847 0.99059025]\n",
      "F1-mean:  0.9760154141559397\n"
     ]
    },
    {
     "data": {
      "image/png": "[encoded data removed]",
      "text/plain": [
       "<Figure size 720x432 with 1 Axes>"
      ]
     },
     "metadata": {},
     "output_type": "display_data"
    }
   ],
   "source": [
    "# split test set\n",
    "Xtrain, Xtest, ytrain,ytest = model_selection.train_test_split(X,y)\n",
    "# grid search to find optimal paramters of neural network \n",
    "parameters = {'rf__n_estimators':range(1,100,2)}\n",
    "# build pipeline with feature scaling and Ridge linear regression\n",
    "pipe = pipeline.Pipeline([\n",
    "                          ('std',preprocessing.StandardScaler()),\n",
    "                          ('rf',ensemble.ExtraTreesClassifier())\n",
    "])\n",
    "f1_scorer = metrics.make_scorer(metrics.f1_score,average='micro')\n",
    "model = model_selection.GridSearchCV(pipe,\n",
    "                                     parameters,\n",
    "                                     refit=True,\n",
    "                                     return_train_score=True,\n",
    "                                     #scoring='f1_micro',\n",
    "                                     scoring=f1_scorer,\n",
    "                                     n_jobs=-1)\n",
    "model.fit(Xtrain,ytrain)\n",
    "# prediction training set and test set \n",
    "ptrain = model.predict(Xtrain)\n",
    "ptest = model.predict(Xtest)\n",
    "\n",
    "err_train = metrics.mean_squared_error(ytrain,ptrain)\n",
    "print(\"-> RMSE of training set = %g with score = %g\"%(err_train**0.5,model.score(Xtrain,ytrain)))\n",
    "\n",
    "err_test = metrics.mean_squared_error(ytest,ptest)\n",
    "print(\"-> RMSE = %g of test set with score = %g\"%(err_test**0.5,model.score(Xtest,ytest)))\n",
    "\n",
    "print('\\nbest parameters from cross validsation: ',model.best_params_)\n",
    "print('best score from cross validation: ',model.best_score_)\n",
    "\n",
    "ptest = model.predict(Xtest)\n",
    "f1 = metrics.f1_score(ytest,ptest,average=None)\n",
    "print(\"\\nF1-scores: \",f1)\n",
    "print(\"F1-mean: \",np.mean(f1))\n",
    "\n",
    "results = model.cv_results_\n",
    "labels = ['train','test']\n",
    "std = [results[\"std_%s_score\"%split] for split in labels]\n",
    "mean = [results[\"mean_%s_score\"%split] for split in labels]\n",
    "\n",
    "x = np.array(results[\"param_rf__n_estimators\"].data,dtype=float)\n",
    "idx = model.best_index_\n",
    "fig,ax = plt.subplots(figsize=(10,6))\n",
    "for (m,s,l) in zip(mean,std,labels):\n",
    "    ax.plot(x,m,label=l)\n",
    "    ax.fill_between(x,m-s,m+s,alpha=0.3)\n",
    "ax.scatter(x[idx],m[idx],s=50,marker=\"x\",label=\"best\")\n",
    "ax.set(xlabel='Estimators',ylabel='Mean Score')\n",
    "plt.legend()\n",
    "plt.show()"
   ]
  },
  {
   "cell_type": "markdown",
   "metadata": {},
   "source": [
    "# Machine Learning: Support Vector Machine"
   ]
  },
  {
   "cell_type": "code",
   "execution_count": 19,
   "metadata": {},
   "outputs": [],
   "source": [
    "# separate data frame into features and classifiers\n",
    "X = df.drop(columns=['class','class_idx']).values\n",
    "y = df['class_idx'].values"
   ]
  },
  {
   "cell_type": "code",
   "execution_count": 20,
   "metadata": {},
   "outputs": [
    {
     "name": "stdout",
     "output_type": "stream",
     "text": [
      "-> RMSE of training set = 0.147893 with score = 0.990392\n",
      "-> RMSE = 0.21156 of test set with score = 0.984672\n",
      "\n",
      "best parameters from cross validsation:  {'svm__C': 215.44346900318823, 'svm__gamma': 'auto', 'svm__kernel': 'rbf'}\n",
      "best score from cross validation:  0.9783322993497391\n",
      "\n",
      "F1-scores:  [0.98607242 0.97560976 0.98542805]\n",
      "F1-mean:  0.9823700768325704\n"
     ]
    }
   ],
   "source": [
    "# split test set\n",
    "Xtrain, Xtest, ytrain,ytest = model_selection.train_test_split(X,y)\n",
    "parameters = {'svm__C':np.logspace(0,3,10,endpoint=True),\n",
    "              'svm__gamma':['auto','scale'],\n",
    "              'svm__kernel':['rbf','sigmoid']}\n",
    "# build pipeline with feature scaling and Ridge linear regression\n",
    "pipe = pipeline.Pipeline([\n",
    "                          ('std',preprocessing.StandardScaler()),\n",
    "                          ('svm',svm.SVC())\n",
    "])\n",
    "model = model_selection.GridSearchCV(pipe,\n",
    "                                     parameters,\n",
    "                                     refit=True,\n",
    "                                     return_train_score=True,\n",
    "                                     scoring='f1_micro',\n",
    "                                     n_jobs=-1)\n",
    "model.fit(Xtrain,ytrain)\n",
    "# prediction training set and test set \n",
    "ptrain = model.predict(Xtrain)\n",
    "ptest = model.predict(Xtest)\n",
    "\n",
    "err_train = metrics.mean_squared_error(ytrain,ptrain)\n",
    "print(\"-> RMSE of training set = %g with score = %g\"%(err_train**0.5,model.score(Xtrain,ytrain)))\n",
    "\n",
    "err_test = metrics.mean_squared_error(ytest,ptest)\n",
    "print(\"-> RMSE = %g of test set with score = %g\"%(err_test**0.5,model.score(Xtest,ytest)))\n",
    "\n",
    "print('\\nbest parameters from cross validsation: ',model.best_params_)\n",
    "print('best score from cross validation: ',model.best_score_)\n",
    "\n",
    "ptest = model.predict(Xtest)\n",
    "f1 = metrics.f1_score(ytest,ptest,labels=None,average=None)\n",
    "print(\"\\nF1-scores: \",f1)\n",
    "print(\"F1-mean: \",np.mean(f1))"
   ]
  },
  {
   "cell_type": "markdown",
   "metadata": {},
   "source": [
    "# TensorFlow/Keras"
   ]
  },
  {
   "cell_type": "code",
   "execution_count": 21,
   "metadata": {},
   "outputs": [],
   "source": [
    "import tensorflow as tf\n",
    "from tensorflow import keras"
   ]
  },
  {
   "cell_type": "code",
   "execution_count": 22,
   "metadata": {},
   "outputs": [
    {
     "data": {
      "text/html": [
       "<div>\n",
       "<style scoped>\n",
       "    .dataframe tbody tr th:only-of-type {\n",
       "        vertical-align: middle;\n",
       "    }\n",
       "\n",
       "    .dataframe tbody tr th {\n",
       "        vertical-align: top;\n",
       "    }\n",
       "\n",
       "    .dataframe thead th {\n",
       "        text-align: right;\n",
       "    }\n",
       "</style>\n",
       "<table border=\"1\" class=\"dataframe\">\n",
       "  <thead>\n",
       "    <tr style=\"text-align: right;\">\n",
       "      <th></th>\n",
       "      <th>output_GALAXY</th>\n",
       "      <th>output_QSO</th>\n",
       "      <th>output_STAR</th>\n",
       "    </tr>\n",
       "  </thead>\n",
       "  <tbody>\n",
       "    <tr>\n",
       "      <th>0</th>\n",
       "      <td>0</td>\n",
       "      <td>0</td>\n",
       "      <td>1</td>\n",
       "    </tr>\n",
       "    <tr>\n",
       "      <th>1</th>\n",
       "      <td>0</td>\n",
       "      <td>0</td>\n",
       "      <td>1</td>\n",
       "    </tr>\n",
       "    <tr>\n",
       "      <th>2</th>\n",
       "      <td>0</td>\n",
       "      <td>0</td>\n",
       "      <td>1</td>\n",
       "    </tr>\n",
       "    <tr>\n",
       "      <th>3</th>\n",
       "      <td>0</td>\n",
       "      <td>0</td>\n",
       "      <td>1</td>\n",
       "    </tr>\n",
       "    <tr>\n",
       "      <th>4</th>\n",
       "      <td>0</td>\n",
       "      <td>0</td>\n",
       "      <td>1</td>\n",
       "    </tr>\n",
       "  </tbody>\n",
       "</table>\n",
       "</div>"
      ],
      "text/plain": [
       "   output_GALAXY  output_QSO  output_STAR\n",
       "0              0           0            1\n",
       "1              0           0            1\n",
       "2              0           0            1\n",
       "3              0           0            1\n",
       "4              0           0            1"
      ]
     },
     "execution_count": 22,
     "metadata": {},
     "output_type": "execute_result"
    }
   ],
   "source": [
    "# using dummies to create output instead of 0,1,2 as the classifiers\n",
    "X = test.drop(columns=['class']).values\n",
    "y = pd.get_dummies(test[['class']],prefix='output')\n",
    "y.head()\n"
   ]
  },
  {
   "cell_type": "code",
   "execution_count": 23,
   "metadata": {},
   "outputs": [
    {
     "data": {
      "text/plain": [
       "((4892, 8), (4892, 3))"
      ]
     },
     "execution_count": 23,
     "metadata": {},
     "output_type": "execute_result"
    }
   ],
   "source": [
    "Xtrain, Xtest, ytrain,ytest = model_selection.train_test_split(X,y)\n",
    "Xtrain.shape,ytrain.shape"
   ]
  },
  {
   "cell_type": "code",
   "execution_count": 24,
   "metadata": {},
   "outputs": [
    {
     "name": "stdout",
     "output_type": "stream",
     "text": [
      "Model: \"functional_1\"\n",
      "_________________________________________________________________\n",
      "Layer (type)                 Output Shape              Param #   \n",
      "=================================================================\n",
      "input_1 (InputLayer)         [(None, 8)]               0         \n",
      "_________________________________________________________________\n",
      "dense (Dense)                (None, 25)                225       \n",
      "_________________________________________________________________\n",
      "dense_1 (Dense)              (None, 25)                650       \n",
      "_________________________________________________________________\n",
      "dense_2 (Dense)              (None, 25)                650       \n",
      "_________________________________________________________________\n",
      "dense_3 (Dense)              (None, 3)                 78        \n",
      "=================================================================\n",
      "Total params: 1,603\n",
      "Trainable params: 1,603\n",
      "Non-trainable params: 0\n",
      "_________________________________________________________________\n"
     ]
    }
   ],
   "source": [
    "in_layer = keras.layers.Input(shape=(Xtrain.shape[1],))\n",
    "d1 = keras.layers.Dense(25,activation='sigmoid')(in_layer)\n",
    "d2 = keras.layers.Dense(25,activation='sigmoid')(d1)\n",
    "d3 = keras.layers.Dense(25,activation='sigmoid')(d2)\n",
    "out_layer = keras.layers.Dense(ytrain.shape[1],activation='softmax')(d3)\n",
    "\n",
    "model = keras.models.Model(inputs=in_layer,outputs=out_layer)\n",
    "\n",
    "std = preprocessing.StandardScaler().fit(Xtrain)\n",
    "model.compile(optimizer='adam',\n",
    "              loss='categorical_crossentropy',\n",
    "              metrics=[keras.metrics.Precision(),keras.metrics.Recall()])\n",
    "history = model.fit(std.transform(Xtrain),ytrain,\n",
    "                    batch_size=2,\n",
    "                    epochs=10,\n",
    "                    validation_split=0.2,\n",
    "                    verbose=0,\n",
    "                    callbacks=keras.callbacks.History())\n",
    "model.summary()"
   ]
  },
  {
   "cell_type": "code",
   "execution_count": 25,
   "metadata": {
    "scrolled": true
   },
   "outputs": [
    {
     "data": {
      "text/plain": [
       "<AxesSubplot:xlabel='Epoch', ylabel='Loss'>"
      ]
     },
     "execution_count": 25,
     "metadata": {},
     "output_type": "execute_result"
    },
    {
     "data": {
      "image/png": "[encoded data removed]",
      "text/plain": [
       "<Figure size 432x288 with 1 Axes>"
      ]
     },
     "metadata": {},
     "output_type": "display_data"
    }
   ],
   "source": [
    "hist = pd.DataFrame(history.history)\n",
    "hist.plot(y=\"loss\",\n",
    "          xlabel='Epoch',\n",
    "          ylabel='Loss',\n",
    "          legend=False)"
   ]
  },
  {
   "cell_type": "code",
   "execution_count": 26,
   "metadata": {},
   "outputs": [
    {
     "name": "stdout",
     "output_type": "stream",
     "text": [
      "51/51 [==============================] - 0s 3ms/step - loss: 0.0857 - precision: 0.9840 - recall: 0.9834\n",
      "f1 = 0.98\n"
     ]
    }
   ],
   "source": [
    "# return loss and metric\n",
    "scores = model.evaluate(std.transform(Xtest),ytest)\n",
    "f1 = 2*scores[1]*scores[-1]/(scores[1] + scores[-1])\n",
    "print(\"f1 = %.2f\"%f1)"
   ]
  },
  {
   "cell_type": "code",
   "execution_count": 27,
   "metadata": {},
   "outputs": [],
   "source": [
    "kwargs= dict(\n",
    "             #kernel_regularizer=tf.keras.regularizers.L1(0.01),\n",
    "             activity_regularizer=tf.keras.regularizers.L2(0.0001)\n",
    ")"
   ]
  },
  {
   "cell_type": "code",
   "execution_count": 28,
   "metadata": {},
   "outputs": [
    {
     "name": "stdout",
     "output_type": "stream",
     "text": [
      "51/51 [==============================] - 0s 5ms/step - loss: 0.0766 - precision_1: 0.9810 - recall_1: 0.9804\n",
      "f1 = 0.98\n"
     ]
    }
   ],
   "source": [
    "in_layer = keras.layers.Input(shape=(Xtrain.shape[1],))\n",
    "d1 = keras.layers.Dense(25,activation='sigmoid')(in_layer)\n",
    "d2 = keras.layers.Dense(25,activation='sigmoid',**kwargs)(d1)\n",
    "d3 = keras.layers.Dense(25,activation='sigmoid',**kwargs)(d2)\n",
    "out_layer = keras.layers.Dense(ytrain.shape[1],activation='softmax')(d3)\n",
    "\n",
    "model = keras.models.Model(inputs=in_layer,outputs=out_layer)\n",
    "\n",
    "std = preprocessing.StandardScaler().fit(Xtrain)\n",
    "model.compile(optimizer='adam',\n",
    "              loss='categorical_crossentropy',\n",
    "              metrics=[keras.metrics.Precision(),keras.metrics.Recall()])\n",
    "history = model.fit(std.transform(Xtrain),ytrain,\n",
    "                    batch_size=2,\n",
    "                    epochs=10,\n",
    "                    validation_split=0.2,\n",
    "                    verbose=0,\n",
    "                    callbacks=keras.callbacks.History())\n",
    "# return loss and metric\n",
    "scores = model.evaluate(std.transform(Xtest),ytest)\n",
    "f1 = 2*scores[1]*scores[-1]/(scores[1] + scores[-1])\n",
    "print(\"f1 = %.2f\"%f1)"
   ]
  },
  {
   "cell_type": "code",
   "execution_count": null,
   "metadata": {},
   "outputs": [],
   "source": []
  }
 ],
 "metadata": {
  "kernelspec": {
   "display_name": "Python 3.8 (py38)",
   "language": "python",
   "name": "py38"
  },
  "language_info": {
   "codemirror_mode": {
    "name": "ipython",
    "version": 3
   },
   "file_extension": ".py",
   "mimetype": "text/x-python",
   "name": "python",
   "nbconvert_exporter": "python",
   "pygments_lexer": "ipython3",
   "version": "3.8.5"
  }
 },
 "nbformat": 4,
 "nbformat_minor": 4
}
